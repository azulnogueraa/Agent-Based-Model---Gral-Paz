{
 "cells": [
  {
   "cell_type": "markdown",
   "metadata": {},
   "source": [
    "<div style=\"text-align: center;\">\n",
    "    <h1> <font style=\"bold\"> Agent-Based Model </font></h1>\n",
    "    <h2><font style=\"bold\"> General Paz </font></h2>\n",
    "    <h3><font style=\"bold\">Integrantes:</font></h3>\n",
    "</div>\n",
    "<div style=\"display: flex; justify-content: center;\">\n",
    "    <h4><ul>\n",
    "        <li>Noguera Azul</li>\n",
    "        <li>Gonzalez Rocio</li>\n",
    "        <li>Guledjian Patricio</li>\n",
    "        </ul>\n",
    "    </h4>\n",
    "</div>"
   ]
  },
  {
   "cell_type": "markdown",
   "metadata": {},
   "source": [
    "## Descripción del modelo"
   ]
  },
  {
   "cell_type": "markdown",
   "metadata": {},
   "source": [
    "### Objetivo"
   ]
  },
  {
   "cell_type": "markdown",
   "metadata": {},
   "source": [
    "Nuestro objetivo es implementar una simulación realista de la Avenida General Paz. En los tramos de Liniers a Lugones. "
   ]
  },
  {
   "cell_type": "markdown",
   "metadata": {},
   "source": [
    "### Entidades / Agentes"
   ]
  },
  {
   "cell_type": "markdown",
   "metadata": {},
   "source": [
    "Las entidades del modelo, qué serán los qué circulen por él, en nuestro modelo corresponden a los automóviles con sus respectivos conductores. Los agentes son autónomos, es decir, están dotados con comportamientos que les permiten tomar decisiones independientes."
   ]
  },
  {
   "cell_type": "markdown",
   "metadata": {},
   "source": [
    "### Atributos"
   ]
  },
  {
   "cell_type": "markdown",
   "metadata": {},
   "source": [
    "Las entidades tienen distintos atributos que lo describen como:\n",
    "\n",
    "- Posición **(x)**.\n",
    "- Velocidad **(v)**.\n",
    "- Longitud del auto. **(l)**.\n",
    "- Tiempo de permanencia en la autopista **(t)**.\n",
    "- Tiempo de reacción de frenado. **(tr)**\n",
    "- Tiempo en el que el Agente arribó a la Gral. Paz. **(at)**\n",
    "\n",
    "##### Interacción con otros agentes\n",
    "Cada agente tiene un vehiculo por detras y por delante. Del vehiculo de adelante dependerá si el agente frena o no. Las reducciones de velocidad son las que causarán los *shockwaves*. \n",
    "\n",
    "- Distancia entre vehículo de atras **(ba)**.\n",
    "- Distancia entre vehiculo de adelante **(fa)**. \n",
    "\n",
    "##### Comportamiento\n",
    "- Los agentes reaccionan (mantienen su velocidad, aceleran y desaceleran) dependiendo de el ambiente y su vecindario. \n",
    "- Dependiendo de el comportamiento del agente que maneje el vehiculo, el mismo:\n",
    "  -  respetará los limites de velocidad o no.\n",
    "  -   tendrá mas o menos probabilidad de choque.\n"
   ]
  },
  {
   "cell_type": "markdown",
   "metadata": {},
   "source": [
    "### Ambiente"
   ]
  },
  {
   "cell_type": "markdown",
   "metadata": {},
   "source": [
    "El ambiente de nuestro agent-based transportation model será la infraestructura y capacidades de los nodos y enlaces de la red vial. En estas capacidades se crean efectos de congestión (velocidades de viaje reducidas) limitando el número de agentes que se desplazan a través de la red de transporte en un momento dado."
   ]
  },
  {
   "cell_type": "markdown",
   "metadata": {},
   "source": [
    "### Variables de Decisión"
   ]
  },
  {
   "cell_type": "markdown",
   "metadata": {},
   "source": [
    "Las variables de decisión son las qué generarán distintas alternativas o escenarios en el modelo. Es decir, estas serán las qué ayudarán a determinar cuál es el layout óptimo para la solución. \n",
    "\n",
    "Nosotros planteamos la **Hipótesis** siguiente:\n",
    "- *A mayor cantidad de autos autónomos, menor será la probabilidad de choques y menor el tiempo total de los agentes en recorrer la Gral. Paz*\n",
    "\n",
    "La variable de decisión principal será entonces el porcentaje de autos autónomos en la avenida. "
   ]
  },
  {
   "cell_type": "markdown",
   "metadata": {},
   "source": [
    "### Variables de Referencia"
   ]
  },
  {
   "cell_type": "markdown",
   "metadata": {},
   "source": [
    "Las variables de referencia son las obtenidas cómo resultado de la simulación. Se buscará mejorarlas en función al objetivo.\n",
    "Tiempo promedio de recorrido de los vehículos."
   ]
  },
  {
   "cell_type": "markdown",
   "metadata": {},
   "source": [
    "### Variables de Estado"
   ]
  },
  {
   "cell_type": "markdown",
   "metadata": {},
   "source": [
    "Las variables de estado son aquellas qué contienen la información necesaria para describir la situación actual de los recursos.\n",
    "- Tasa de Ocupación en las principales zonas de aglomeración.\n",
    "- Tasa de ocupación ocasionada por accidentes, vehículos detenidos, obras en la ruta, policías parando, etc.\n",
    "- Tasa de ocupación ocasionada por mal tiempo.\n",
    "- Tasa de ocupación del peaje o semáforos  (si es que se agregan)."
   ]
  },
  {
   "cell_type": "markdown",
   "metadata": {},
   "source": [
    "### Distribuciones"
   ]
  },
  {
   "cell_type": "markdown",
   "metadata": {},
   "source": [
    "#### Distribución de arribos de vehiculos"
   ]
  },
  {
   "cell_type": "markdown",
   "metadata": {},
   "source": [
    "Optado por la utilización de una *distribución exponencial* como modelo para representar los arribos de vehículos, y esta elección se fundamenta en diversas consideraciones clave.\n",
    "\n",
    "La distribución exponencial negativa es una selección frecuentemente empleada en la modelación de procesos de llegada aleatoria. En el contexto de rutas de vehículos, esta distribución se ajusta adecuadamente cuando se asume que los arribos de vehículos son eventos independientes y se producen a una tasa constante a lo largo del tiempo. En otras palabras, la probabilidad de que un vehículo llegue en un periodo determinado es constante y no depende del momento en que llegaron los vehículos previos.\n",
    "\n",
    "Sin embargo, es fundamental destacar que emplearemos parámetros diferentes para la distribución, dependiendo de la franja horaria en la que nos encontremos, ya sea durante las horas pico o en otros momentos del día.\n",
    "\n",
    "La distribución que elegiremos para modelar los arribos será la siguiente:\n",
    "$$f(x | \\lambda) = e^{(-\\lambda x)}$$\n",
    "\n",
    "$$\n",
    "\\lambda =\n",
    "\\begin{cases}\n",
    "\\frac{1}{\\mu_1} = \\frac{1}{15 \\text{s}} \\, & \\text{si es hora pico} \\\\\n",
    "\\frac{1}{\\mu_2} = \\frac{1}{45 \\text{s}}, & \\text{si no es hora pico}\n",
    "\\end{cases}\n",
    "$$"
   ]
  },
  {
   "cell_type": "markdown",
   "metadata": {},
   "source": [
    "#### distribución de velocidad de arribos"
   ]
  },
  {
   "cell_type": "markdown",
   "metadata": {},
   "source": [
    "\n",
    "Para modelar la velocidad de llegada de los agentes a la autopista, se optó por emplear una *distribución normal* con una media de 17 metros por segundo (61.2 kilómetros por hora) y una varianza de 1 metro por segundo (3.6 kilómetros por hora). Esta elección se basa en la búsqueda de un enfoque realista y equilibrado en la simulación.\n",
    "\n",
    "La elección de una velocidad de llegada no extrema como media tiene como objetivo representar un escenario inicial donde los agentes ingresan gradualmente a la autopista, permitiéndoles adaptarse a las condiciones simuladas de tráfico. Esta aproximación evita situaciones iniciales de alta congestión que podrían resultar en colisiones debido a la falta de adaptación de los agentes.\n",
    "\n",
    "Por otro lado, la selección de una varianza pequeña contribuye a limitar la dispersión en las velocidades de llegada de los agentes, lo que ayuda a mantener una transición más suave durante el proceso de entrada a la autopista. En resumen, esta elección busca proporcionar una base sólida para la simulación al garantizar que los agentes comiencen con velocidades razonables y converjan gradualmente hacia las condiciones de tráfico simuladas.\n",
    "\n",
    "En consecuencia, el uso de una distribución normal con estos parámetros se considera adecuado para establecer una entrada controlada y realista de los agentes en la simulación, minimizando la probabilidad de choques provocados por discrepancias iniciales en las velocidades de los vehículos.\n",
    "\n",
    "\n",
    "$$\n",
    "f(x) = \\frac{1}{\\sigma \\sqrt{2\\pi}} e^{-\\frac{(x-\\mu)^2}{2\\sigma^2}}\n",
    "$$\n",
    "\n",
    "$$\n",
    "\\begin{align*}\n",
    "\\mu & = 17m/s \\\\\n",
    "\\sigma & = 1m/s\n",
    "\\end{align*}\n",
    "$$"
   ]
  },
  {
   "cell_type": "markdown",
   "metadata": {},
   "source": [
    "#### Distribución de velocidad deseada"
   ]
  },
  {
   "cell_type": "markdown",
   "metadata": {},
   "source": [
    "La distribución triangular es una elección adecuada para simular la velocidad deseada de los agentes en una ruta con un mínimo de 8.34m/s (30 km/h), una moda de 19.45m/s (70 km/h) y un máximo de 27.78m/s (100 km/h) por lo siguiente:\n",
    "\n",
    "Es una distribución continua que permite modelar situaciones en las que existe un valor mínimo, un valor máximo y un valor modal. En el contexto de la velocidad de los vehiculos en una carretera, es razonable suponer que la mayoría de los vehiculos desearán moverse a una velocidad cercana a la moda (70 km/h) y que habrá algunos que desearan ir más rápido o más lento. \n",
    "\n",
    "se optó por emplear esta distribución para que los agentes busquen satisfacer su deseo de acercarse a su velocidad deseada en cada instante de tiempo mientras sea posible. \n",
    "\n",
    "\n",
    "\n",
    "$$\n",
    "f(x) = \\begin{cases}\n",
    "0 & \\text{si } x < 30 \\\\\n",
    "\\frac{2(x-30)}{(70-30)(100-30)} & \\text{si } 30 \\leq x < 70 \\\\\n",
    "\\frac{2(70-x)}{(70-30)(70-100)} & \\text{si } 100 \\leq x \\leq 70 \\\\\n",
    "0 & \\text{si } x > 100\n",
    "\\end{cases}\n",
    "$$"
   ]
  },
  {
   "cell_type": "markdown",
   "metadata": {},
   "source": [
    "#### Distribución de variación de velocidad"
   ]
  },
  {
   "cell_type": "markdown",
   "metadata": {},
   "source": [
    "En nuestra simulación de la Gral. Paz, cada agente se comporta de manera única y puede variar en su velocidad debido a diferentes factores, como la relación con otros agentes y las condiciones del entorno. Para modelar esta variación de velocidad, inicialmente utilizamos la distribución triangular, que nos proporciona una velocidad modal estimada para cada agente.\n",
    "\n",
    "Sin embargo, sabemos que los agentes no mantendrán una velocidad constante en la carretera, ya que pueden optar por no respetar las leyes de velocidad, frenar de manera abrupta o ajustar su velocidad de acuerdo con la situación. Por lo tanto, para capturar esta variabilidad en la velocidad de manera más realista, decidimos emplear la distribución normal.\n",
    "\n",
    "La distribución normal se seleccionó como una opción apropiada para modelar la variación de velocidad de los agentes debido a sus ventajas. Esta distribución es ampliamente reconocida por su capacidad para representar la variabilidad en datos del mundo real. Además, su simetría y versatilidad permiten modelar la idea de que algunos agentes pueden conducir a velocidades más altas o más bajas que la velocidad modal, mientras que la mayoría se mantendrá cerca de esta velocidad central.\n",
    "\n",
    "La distribución normal también se ajusta fácilmente mediante la variación de la varianza, lo que nos permite controlar el grado de variación en las velocidades de los agentes de acuerdo con las necesidades de nuestra simulación.\n",
    "\n",
    "$$\n",
    "f(x) = \\frac{1}{\\sigma \\sqrt{2\\pi}} e^{-\\frac{(x-\\mu)^2}{2\\sigma^2}}\n",
    "$$\n",
    "\n",
    "$$\n",
    "\\begin{align*}\n",
    "\\mu & \\text{ es la velocidad del agente obtenida a partir de la distribución triangular}, \\\\\n",
    "\\sigma & = 5 \\text{ km/h} \\text{ (varianza)}.\n",
    "\\end{align*}\n",
    "$$\n",
    "\n",
    "\n",
    "\n",
    "entran todos con media 17 y desvio 1, buscan llegar a la velocidad deseada dada por la triangular \n",
    "            '''\n",
    "            la distribución de variacion de velocidad viene dada por una normal con media \n",
    "            la diferencia entre la velocidad deseada y la actual multiplicado por 1/3 ponele para que sea realista\n",
    "            y desvio (gio dijo 1 ) hay que ver que onda\n",
    "\n",
    "            '''"
   ]
  },
  {
   "cell_type": "markdown",
   "metadata": {},
   "source": [
    "#### Distribución de frenado"
   ]
  },
  {
   "cell_type": "markdown",
   "metadata": {},
   "source": [
    "Sabemos que para que un agente logre frenar sin colisionar debe reducir su velocidad  como minimo a la de el agente de adelante. Sin embargo modelar la distribución de frenado de esta forma no se ajusta a la realidad debido a que los mismos son unicos e independientes, por lo que tienen distintos tiempos de reacción, distintas velocidades y distintas velocidades deseadas. \n",
    "\n",
    "Por este motivo, decidimos agregarle un factor aleatoreo que se amolde a las propiedades de cada agente.\n",
    "\n",
    "Elegimos la *distribución exponencial* como medida de error de la reducción necesaria para evitar colisiones. Esto se debe a varias razones fundamentales:\n",
    "\n",
    "- **Falta de Memoria a Largo Plazo:** Esta propiedad implica que la probabilidad de que un vehículo frene con fuerza en un momento dado no depende de cuánto tiempo haya transcurrido desde el último frenado. \n",
    "\n",
    "- **Ajuste de la \"Agresividad\" del Frenado:** La distribución exponencial nos brinda la flexibilidad de ajustar el grado de \"agresividad\" en el frenado de los vehículos a través del parámetro de tasa (λ). Al variar el valor de λ, podemos modelar diferentes comportamientos de frenado. Un valor más alto de λ indica que los vehículos son menos propensos a frenar con fuerza cuando están cerca del vehículo de adelante, lo que podría representar situaciones de tráfico más fluidas. Por otro lado, un valor más bajo de λ indica una mayor probabilidad de frenado en distancias cercanas, lo que podría reflejar situaciones de tráfico más congestionadas o conductores más cautelosos.\n",
    "\n",
    "- **Modelización de Eventos Independientes:** La distribución exponencial es ampliamente utilizada para modelar eventos aleatorios que ocurren de manera independiente a lo largo del tiempo. En el contexto del tráfico, asumimos que los frenados de los vehículos son eventos estocásticos e independientes, ya que las decisiones de frenado de un vehículo no están influenciadas por los eventos de frenado de otros vehículos en el pasado. Esta suposición es coherente con la variabilidad inherente a las interacciones de tráfico en situaciones reales.\n",
    "\n",
    "\n",
    "##### Es importante comprender como cambia la formula en los diferentes contextos...\n",
    "- Cuando el agente se encuentra a menos de un segundo del de adelante:\n",
    "  \n",
    "    $$\\text{reducción} = \\frac{\\text{velocidad del agente de adelante} - \\text{velocidad del agente de atras}}{1 - e^{(\\lambda x)} }$$\n",
    "\n",
    "- Cuando el agente se encuentra entre uno y dos segundo del de adelante:\n",
    "\n",
    "    $$\\text{reducción} = \\frac{\\text{velocidad del agente de adelante} - \\text{velocidad del agente de atras}}{2 - e^{(\\lambda x)} }$$\n",
    "\n",
    "\n",
    "##### Pero, ¿Que significa el $\\lambda$?\n",
    "\n",
    "Este parametro es el tiempo de reacción de el agente. A continuación explicaremos la distribución que utilizamos para el tiempo de reacción."
   ]
  },
  {
   "cell_type": "markdown",
   "metadata": {},
   "source": [
    "#### Distribución del tiempo de reacción del agente"
   ]
  },
  {
   "cell_type": "markdown",
   "metadata": {},
   "source": [
    "Elegimos la *distribución normal* para simular el tiempo de reacción debido a su capacidad para representar la variabilidad realista en los tiempos de reacción de las personas al frenar. La distribución normal se ajusta bien a situaciones en las que la mayoría de los individuos tienen tiempos de reacción cercanos a un valor promedio (la media), con menos personas que experimentan tiempos de reacción significativamente más cortos o más largos. Esto refleja con precisión cómo la mayoría de las personas conducen con tiempos de reacción similares, pero aún existe variabilidad natural. \n",
    "\n",
    "Luego de una busqueda de estudios de investigación acerca del comportamiento de los conductores en carreteras, llegamos a la conclusión que el tiempo de reacción promedio de estimulos visuales es de aproximadamente *0.25*. Este puede variar dependiendo la edad, la estatura (los estímulos en las personas altas tienen que recorrer mayor distancia en el sistema nervioso), las enfermedades, el alcohol, las drogas, el cansancio, algunos medicamentos, las condiciones climatológicas, el estrés, etc. Se adjunta a continuación la pagina que tomamos de referencia:\n",
    "\n",
    "https://sites.google.com/a/iesmonreal.es/kronosferia/3eso/tiempo-de-reaccion\n",
    "\n",
    "Por otro lado, se decidió por un desvio pequeño ya que las diferencias de los tiempos de reacción entre los agentes es demasiado pequeña en unidad de segundo. \n",
    "\n",
    "$$\n",
    "f(x) = \\frac{1}{\\sigma \\sqrt{2\\pi}} e^{-\\frac{(x-\\mu)^2}{2\\sigma^2}}\n",
    "$$\n",
    "\n",
    "$$\n",
    "\\begin{align*}\n",
    "\\mu & = 0.25s \\\\\n",
    "\\sigma & = 0.005s\n",
    "\\end{align*}\n",
    "$$\n"
   ]
  },
  {
   "cell_type": "markdown",
   "metadata": {},
   "source": [
    "## Simulación"
   ]
  },
  {
   "cell_type": "code",
   "execution_count": 108,
   "metadata": {
    "tags": [
     "hide"
    ]
   },
   "outputs": [],
   "source": [
    "import random \n",
    "from typing import Optional\n",
    "import matplotlib.animation as animation\n",
    "from matplotlib.animation import FuncAnimation\n",
    "import matplotlib.pyplot as plt\n",
    "from scipy import stats\n",
    "import numpy as np\n",
    "import pandas as pd\n",
    "\n",
    "import pygame\n",
    "import sys\n",
    "\n",
    "import os"
   ]
  },
  {
   "cell_type": "code",
   "execution_count": 109,
   "metadata": {},
   "outputs": [],
   "source": [
    "# Define la carpeta donde se encuentran las imágenes de los agentes\n",
    "agent_images_folder = \"vehiculos\"\n",
    "\n",
    "# Lista de nombres de las imágenes que se asignarán a los agentes de manera uniforme\n",
    "agent_image_names_agent = [\"rojo.png\", \"gris.png\", \"negro.png\"]\n",
    "agent_image_names_intelligent = [\"blue.png\"]"
   ]
  },
  {
   "cell_type": "code",
   "execution_count": 110,
   "metadata": {},
   "outputs": [],
   "source": [
    "class Agent(pygame.sprite.Sprite):\n",
    "\n",
    "    def __init__(self):\n",
    "        super().__init__()\n",
    "        self.position = 0                                                                               \n",
    "        self.length = 40                                              \n",
    "        self.front_agent = None                                      \n",
    "        self.back_agent = None                                       \n",
    "        self.collision = False                                        \n",
    "        self.desired_velocity = random.triangular(30/3.6, 100/3.6, 70/3.6)\n",
    "        self.velocity = random.normalvariate(60/3.6, 1)\n",
    "        self.time = 0\n",
    "        self.arrival_time = 0\n",
    "        self.reaction_time = random.normalvariate(0.15, 0.005) \n",
    "        self.image = None\n",
    "\n",
    "        # Asignar una de las imágenes uniformemente\n",
    "        image_name = random.choice(agent_image_names_agent)\n",
    "        self.load_agent_image(image_name)\n",
    "\n",
    "    def load_agent_image(self, image_name):\n",
    "        # Construir la ruta completa de la imagen\n",
    "        image_path = os.path.join(agent_images_folder, image_name)\n",
    "\n",
    "        # Cargar y ajustar la imagen\n",
    "        self.image = pygame.image.load(image_path)\n",
    "        self.image = pygame.transform.scale(self.image, (self.length, 20))\n",
    "\n",
    "    \n",
    "    def __str__(self):\n",
    "        return (\n",
    "            f\"Agent(t={self.time}, at={self.arrival_time}, x={self.position}, \"\n",
    "            f\"v={self.velocity}, vd={self.desired_velocity})\"\n",
    "        )\n",
    "\n",
    "    def dist_to_front_agent(self):\n",
    "        if self.front_agent == None:\n",
    "            return None\n",
    "\n",
    "        else: #hay otro agente adelante\n",
    "            return  self.front_agent.position - self.position - self.length\n",
    "\n",
    "\n",
    "    def dist_to_back_agent(self):\n",
    "        if self.back_agent == None:\n",
    "            return None\n",
    "\n",
    "        else: #hay otro agent atras\n",
    "            return  self.position - self.back_agent.position - self.back_agent.length\n",
    "\n",
    "    def speed_variation(self):\n",
    "        # voy a querer acelerar/desacelerar dependiendo de mi velocidad deseada siempre y cuando tenga lugar para hacerlo\n",
    "        if self.dist_to_front_agent() is not None:\n",
    "\n",
    "            # quiero acelerar\n",
    "            if self.velocity < self.desired_velocity:\n",
    "\n",
    "                if self.dist_to_front_agent() / (self.velocity) >= 4:\n",
    "                    acceleration = random.normalvariate((self.desired_velocity - self.velocity) * 1/2, 1)\n",
    "\n",
    "                    if acceleration > 4:\n",
    "                        acceleration == 4\n",
    "                    self.velocity += acceleration\n",
    "            \n",
    "            # quiero desacelerar\n",
    "            if self.velocity > self.desired_velocity:\n",
    "                if self.dist_to_front_agent() / (self.velocity) >= 2:\n",
    "                    self.velocity += random.normalvariate((self.desired_velocity - self.velocity) * 1/3, 1)\n",
    "\n",
    "\n",
    "        # si no tengo agente adelante, variara mi velocidad hasta mi la deseada\n",
    "        if self.dist_to_front_agent() is None:\n",
    "            self.velocity += random.normalvariate((self.desired_velocity - self.velocity) * 1/3, 1)\n",
    "\n",
    "        \n",
    "    def reduce_speed(self):\n",
    "        # si se encuentra \"cerca\" del agente de adelante, reducirá su velocidad mediante una distribución exponencial con media 1.\n",
    "        if self.dist_to_front_agent() is not None and self.dist_to_front_agent() / (self.velocity - self.front_agent.velocity) < 1:   \n",
    "                    if self.front_agent.velocity < self.velocity:\n",
    "                        reduction = (self.front_agent.velocity - self.velocity - 5) /(1 - stats.expon.rvs(scale=self.reaction_time))\n",
    "\n",
    "                        # verificamos que sea una reducción posible para un agente humano. \n",
    "                        if reduction < -4:\n",
    "                            #Imposible que frene un humano\n",
    "                            self.collision = True\n",
    "                            \n",
    "                        else:\n",
    "                            self.velocity += reduction\n",
    "\n",
    "        if self.dist_to_front_agent() is not None and self.dist_to_front_agent() / (self.velocity - self.front_agent.velocity) < 2 and self.dist_to_front_agent() / (self.velocity - self.front_agent.velocity) >= 1:   \n",
    "            if self.front_agent.velocity < self.velocity:\n",
    "                reduction = (self.front_agent.velocity - self.velocity) /(1 - stats.expon.rvs(scale=self.reaction_time))\n",
    "\n",
    "                self.velocity += reduction\n",
    "    \n",
    "        if self.velocity < 1:\n",
    "            self.velocity = 1   \n",
    "            \n",
    "    def move(self):\n",
    "        self.position = self.position + self.velocity * 1 \n",
    "    \n",
    "    def get_position(self):\n",
    "        return self.position\n",
    "\n",
    "    def update(self):\n",
    "        self.move()\n",
    "        self.reduce_speed()\n",
    "        self.speed_variation()\n",
    "\n",
    "        self.time += 1"
   ]
  },
  {
   "cell_type": "code",
   "execution_count": 111,
   "metadata": {},
   "outputs": [],
   "source": [
    "class IntelligentCar(pygame.sprite.Sprite):\n",
    "\n",
    "    def __init__(self):\n",
    "        super().__init__()\n",
    "        self.position = 0\n",
    "        self.length = 40\n",
    "        self.front_agent = None\n",
    "        self.back_agent = None\n",
    "        self.collision = False\n",
    "        self.desired_velocity = 80/3.6\n",
    "        self.velocity = random.normalvariate(60/3.6, 1)\n",
    "        self.time = 0\n",
    "        self.arrival_time = 0\n",
    "        self.image = None\n",
    "\n",
    "        # Asignar una de las imágenes uniformemente\n",
    "        image_name = random.choice(agent_image_names_intelligent)\n",
    "        self.load_agent_image(image_name)\n",
    "\n",
    "    def load_agent_image(self, image_name):\n",
    "        # Construir la ruta completa de la imagen\n",
    "        image_path = os.path.join(agent_images_folder, image_name)\n",
    "\n",
    "        # Cargar y ajustar la imagen\n",
    "        self.image = pygame.image.load(image_path)\n",
    "        self.image = pygame.transform.scale(self.image, (self.length, 20))\n",
    "\n",
    "    def __str__(self):\n",
    "        return (\n",
    "            f\"IntelligentCar(t={self.time}, at={self.arrival_time}, x={self.position}, \"\n",
    "            f\"v={self.velocity}, vd={self.desired_velocity})\"\n",
    "        )\n",
    "\n",
    "    def dist_to_front_agent(self):\n",
    "        if self.front_agent is None:\n",
    "            return None\n",
    "        else:\n",
    "            return abs(self.position - self.front_agent.position + self.length)\n",
    "\n",
    "    def dist_to_back_agent(self):\n",
    "        if self.back_agent is None:\n",
    "            return None\n",
    "        else:\n",
    "            return abs(self.back_agent.position - self.position + self.back_agent.length)\n",
    "\n",
    "    def adjust_speed(self):\n",
    "        # Calcula la velocidad deseada en función de la distancia con el automóvil de adelante y atrás\n",
    "        safe_distance = 10  # Distancia segura deseada entre vehículos en metros\n",
    "        min_following_distance = 5  # Distancia mínima de seguimiento en metros\n",
    "\n",
    "        # Calcular la velocidad deseada en función de la distancia con el automóvil de adelante\n",
    "        if self.dist_to_front_agent() is not None:\n",
    "            desired_velocity_front = min(self.desired_velocity,(self.dist_to_front_agent() - safe_distance))\n",
    "        else:\n",
    "            desired_velocity_front = self.desired_velocity\n",
    "\n",
    "        # Calcular la velocidad deseada en función de la distancia con el automóvil de atrás\n",
    "        if self.dist_to_back_agent() is not None:\n",
    "            desired_velocity_back = min(self.desired_velocity, (self.dist_to_back_agent() - min_following_distance))\n",
    "        else:\n",
    "            desired_velocity_back = self.desired_velocity\n",
    "\n",
    "        # Ajustar la velocidad deseada en función de ambas distancias\n",
    "        if desired_velocity_front < desired_velocity_back:\n",
    "            self.velocity = max(desired_velocity_front, 0)\n",
    "        else:\n",
    "            self.velocity = max(desired_velocity_back, 0)\n",
    "\n",
    "    def move(self):\n",
    "        self.position += self.velocity * 1\n",
    "\n",
    "    def get_position(self):\n",
    "        return self.position\n",
    "\n",
    "    def update(self):\n",
    "        self.move()\n",
    "        self.adjust_speed()\n",
    "        self.time += 1"
   ]
  },
  {
   "cell_type": "code",
   "execution_count": 112,
   "metadata": {},
   "outputs": [],
   "source": [
    "class Road:\n",
    "    \n",
    "    def __init__(self, m:int, c:bool):\n",
    "        self.km = m\n",
    "        self.agents = []\n",
    "        self.time = 0\n",
    "        self.total_time = 2000\n",
    "        self.congestion = c\n",
    "        self.collision_count = 0\n",
    "        self.trip_time = []\n",
    "        self.agent_velocities = {}\n",
    "\n",
    "    def add_agent(self):\n",
    "        \n",
    "        # Seleccionamos el tipo de agente a agregar, con una probabilidad de 0.1 de que sea un IntelligentCar y 0.9 de que sea un Agent\n",
    "        agent_type = random.choices([IntelligentCar, Agent], weights=[0.25, 0.75])[0]\n",
    "        new_agent = agent_type()\n",
    "        \n",
    "        if not self.agents:\n",
    "            self.agents.append(new_agent)\n",
    "            # print(\"Primer agente agregado: \" + str(self.agents[0]))\n",
    "            if self.congestion == True:\n",
    "                # Agrega autos con distribución exponencial negativa con media = 1\n",
    "                self.time_to_next_arrival = stats.expon.rvs(scale=3)\n",
    "            else: \n",
    "                # Agrega autos con distribución exponencial negativa con media = 10\n",
    "                self.time_to_next_arrival = stats.expon.rvs(scale=10)\n",
    "\n",
    "        else:\n",
    "            # Verificamos el tiempo desde el último agente\n",
    "            if self.time - self.agents[-1].arrival_time > self.time_to_next_arrival and self.agents[-1].position > 80:\n",
    "                # Agregamos un nuevo agente a la lista\n",
    "                self.agents.append(new_agent)\n",
    "                \n",
    "                new_agent.arrival_time = self.time\n",
    "\n",
    "                if self.congestion == True:\n",
    "                    # Agrega autos con distribución exponencial negativa con media = 1\n",
    "                    self.time_to_next_arrival = stats.expon.rvs(scale=3)\n",
    "                    \n",
    "                else: \n",
    "                    # Agrega autos con distribución exponencial negativa con media = 10\n",
    "                    self.time_to_next_arrival = stats.expon.rvs(scale=10)\n",
    "\n",
    "                # Configuramos el front y back car para el nuevo agente\n",
    "                if len(self.agents) >= 2:\n",
    "                    position_new_agent = self.agents.index(new_agent)\n",
    "                    new_agent.front_agent = self.agents[position_new_agent - 1]\n",
    "                    self.agents[position_new_agent - 1].back_agent = new_agent\n",
    "                    \n",
    "        # Agregamos la velocidad del agente a la lista de velocidades\n",
    "        self.agent_velocities[new_agent.arrival_time] = []\n",
    "\n",
    "        self.update_road()\n",
    "    \n",
    "    def update_road(self):\n",
    "        self.time += 1\n",
    "        # print(\"Tiempo:\", self.time)\n",
    "        removed = set()\n",
    "        for agent in self.agents:\n",
    "            agent.update()\n",
    "            # print(\"Agente:\", self.agents.index(agent), \"->\", agent)\n",
    "            self.agent_velocities[agent.arrival_time].append(agent.velocity)\n",
    "            print(\"Velocidad del agente:\", self.agent_velocities[agent.arrival_time], 'velocidades:', len(self.agent_velocities[agent.arrival_time]))\n",
    "            #Si el agente llega al final de la carretera lo eliminamos\n",
    "            if agent.position > self.km:\n",
    "                self.trip_time.append(agent.time)\n",
    "                removed.add(agent)\n",
    "\n",
    "            #Reasignamos el front y back car de los agentes extremos de la lista\n",
    "            if len(self.agents) > 0:\n",
    "                self.agents[0].front_agent = None\n",
    "\n",
    "            if agent.collision == True:\n",
    "                removed.add(agent)\n",
    "                removed.add(agent.front_agent)\n",
    "                self.collision_count += 1\n",
    "\n",
    "        # reasingo la posiciones de la lista\n",
    "        for agent in removed:\n",
    "            # Si hay choque lo eliminamos y reasignamos los front y back car\n",
    "            self.agents.remove(agent)\n",
    "        \n",
    "        for agent in self.agents:\n",
    "            if self.agents.index(agent) != 0:\n",
    "                        agent.front_agent = self.agents[self.agents.index(agent) - 1]\n",
    "            else:\n",
    "                agent.front_agent = None\n",
    "                \n",
    "            if self.agents.index(agent) != (len(self.agents) - 1):\n",
    "                agent.back_agent = self.agents[self.agents.index(agent) + 1]\n",
    "            else:\n",
    "                agent.back_agent = None\n"
   ]
  },
  {
   "cell_type": "code",
   "execution_count": 113,
   "metadata": {},
   "outputs": [],
   "source": [
    "import pygame\n",
    "import sys\n",
    "\n",
    "# Inicializar Pygame\n",
    "pygame.init()\n",
    "\n",
    "# Configuración de la ventana\n",
    "width, height = 1000, 100\n",
    "screen = pygame.display.set_mode((width, height))\n",
    "pygame.display.set_caption(\"Avenida General Paz\")\n",
    "\n",
    "# Colores\n",
    "white = (255, 255, 255)\n",
    "gray = (200, 200, 200)\n",
    "green = (0, 150, 0)\n",
    "black = (0, 0, 0)\n",
    "red = (255, 0, 0)\n",
    "\n",
    "# Registro del tiempo de inicio\n",
    "start_time = pygame.time.get_ticks()\n",
    "\n",
    "# Lista para almacenar los tiempos de viaje\n",
    "trip_time_list = []\n",
    "\n",
    "# Crear una carretera (supongo que la variable 'road' es previamente definida)\n",
    "general_paz = Road(m=17000, c=True)\n",
    "\n",
    "delay = 50  # Milisegundos de retraso entre fotogramas (ajusta según sea necesario)\n",
    "\n",
    "# Pausa inicial antes de agregar agentes\n",
    "initial_pause_time = 2000  # Tiempo en milisegundos (1 segundo)\n",
    "pygame.time.delay(initial_pause_time)\n",
    "\n",
    "# Bucle principal\n",
    "running = True\n",
    "while running:\n",
    "    for event in pygame.event.get():\n",
    "        if event.type == pygame.QUIT:\n",
    "            running = False\n",
    "\n",
    "    if general_paz.time < general_paz.total_time:\n",
    "        # Actualizar la carretera y los agentes en cada iteración\n",
    "        general_paz.add_agent() \n",
    "        \n",
    "        # Agregar el tiempo de viaje de los agentes que llegan al final de la autopista a la lista\n",
    "        trip_time_list.extend(general_paz.trip_time)\n",
    "        general_paz.trip_time = []  # Limpiar la lista de tiempos para la próxima iteración\n",
    "\n",
    "        # Crear un nuevo DataFrame con los tiempos de viaje en esta iteración\n",
    "        trip_time_df = pd.DataFrame({'Time': trip_time_list})\n",
    "\n",
    "        # Guardar el DataFrame en un archivo CSV (puedes cambiar el nombre del archivo según tus necesidades)\n",
    "        trip_time_df.to_csv('./data/trip_times.csv', index=False)\n",
    "\n",
    "\n",
    "    # Dibujar el pasto verde arriba de la carretera\n",
    "    pygame.draw.rect(screen, green, (0, 0, width, height // 3))\n",
    "\n",
    "    # Carretera gris\n",
    "    pygame.draw.rect(screen, gray, (0, height // 3, width, height // 3))\n",
    "\n",
    "    # Dibujar el pasto verde abajo de la carretera\n",
    "    pygame.draw.rect(screen, green, (0, 2 * height // 3, width, height // 3))\n",
    "\n",
    "    # Líneas blancas en el medio de la carretera\n",
    "    line_width = 10\n",
    "    line_height = 5\n",
    "    num_lines = 30\n",
    "    gap = width // (num_lines + 1)\n",
    "    for i in range(num_lines):\n",
    "        x = (i + 1) * gap - line_width // 2\n",
    "        pygame.draw.rect(screen, white, (x, height // 2 - line_height // 2, line_width, line_height))\n",
    "\n",
    "    # Dibujar los agentes en la carretera\n",
    "    for agent in general_paz.agents:\n",
    "        # Si el agente tiene una imagen, dibújala en lugar de un rectángulo\n",
    "        screen.blit(agent.image, (agent.get_position(), height // 2.5))\n",
    "\n",
    "    # Calcular el tiempo transcurrido en segundos\n",
    "    current_time = pygame.time.get_ticks()\n",
    "    elapsed_time_seconds = (current_time - start_time) / 1000  # Convierte a segundos\n",
    "\n",
    "    # Mostrar el tiempo transcurrido en la ventana\n",
    "    # display_elapsed_time(screen, elapsed_time_seconds)\n",
    "\n",
    "    pygame.display.flip()\n",
    "\n",
    "    # Agregar un retraso para ralentizar la simulación\n",
    "    pygame.time.delay(delay)\n",
    "\n",
    "# Salir del juego\n",
    "pygame.quit()\n",
    "sys.exit()"
   ]
  },
  {
   "cell_type": "code",
   "execution_count": null,
   "metadata": {},
   "outputs": [
    {
     "ename": "KeyboardInterrupt",
     "evalue": "",
     "output_type": "error",
     "traceback": [
      "\u001b[0;31m---------------------------------------------------------------------------\u001b[0m",
      "\u001b[0;31mKeyboardInterrupt\u001b[0m                         Traceback (most recent call last)",
      "\u001b[0;32m/var/folders/kl/780b8_9s0y35m4d8w8w07wfh0000gn/T/ipykernel_86513/2863154669.py\u001b[0m in \u001b[0;36m<module>\u001b[0;34m\u001b[0m\n\u001b[1;32m     27\u001b[0m \u001b[0;31m# Ejemplo de cómo llamar a la función\u001b[0m\u001b[0;34m\u001b[0m\u001b[0;34m\u001b[0m\u001b[0m\n\u001b[1;32m     28\u001b[0m \u001b[0mnum_simulations\u001b[0m \u001b[0;34m=\u001b[0m \u001b[0;36m1\u001b[0m  \u001b[0;31m# Número de simulaciones que deseas ejecutar\u001b[0m\u001b[0;34m\u001b[0m\u001b[0;34m\u001b[0m\u001b[0m\n\u001b[0;32m---> 29\u001b[0;31m \u001b[0mavg_time\u001b[0m\u001b[0;34m,\u001b[0m \u001b[0mtotal_collisions\u001b[0m \u001b[0;34m=\u001b[0m \u001b[0mrun_simulation_multiple_times\u001b[0m\u001b[0;34m(\u001b[0m\u001b[0mnum_simulations\u001b[0m\u001b[0;34m)\u001b[0m\u001b[0;34m\u001b[0m\u001b[0;34m\u001b[0m\u001b[0m\n\u001b[0m\u001b[1;32m     30\u001b[0m \u001b[0;34m\u001b[0m\u001b[0m\n\u001b[1;32m     31\u001b[0m \u001b[0mprint\u001b[0m\u001b[0;34m(\u001b[0m\u001b[0;34mf\"Tiempo promedio en la carretera en {num_simulations} simulaciones: {avg_time}\"\u001b[0m\u001b[0;34m)\u001b[0m\u001b[0;34m\u001b[0m\u001b[0;34m\u001b[0m\u001b[0m\n",
      "\u001b[0;32m/var/folders/kl/780b8_9s0y35m4d8w8w07wfh0000gn/T/ipykernel_86513/2863154669.py\u001b[0m in \u001b[0;36mrun_simulation_multiple_times\u001b[0;34m(num_simulations)\u001b[0m\n\u001b[1;32m     13\u001b[0m \u001b[0;34m\u001b[0m\u001b[0m\n\u001b[1;32m     14\u001b[0m         \u001b[0;32mwhile\u001b[0m \u001b[0mgeneral_paz\u001b[0m\u001b[0;34m.\u001b[0m\u001b[0mtime\u001b[0m \u001b[0;34m<\u001b[0m \u001b[0mgeneral_paz\u001b[0m\u001b[0;34m.\u001b[0m\u001b[0mtotal_time\u001b[0m\u001b[0;34m:\u001b[0m\u001b[0;34m\u001b[0m\u001b[0;34m\u001b[0m\u001b[0m\n\u001b[0;32m---> 15\u001b[0;31m             \u001b[0mgeneral_paz\u001b[0m\u001b[0;34m.\u001b[0m\u001b[0madd_agent\u001b[0m\u001b[0;34m(\u001b[0m\u001b[0;34m)\u001b[0m\u001b[0;34m\u001b[0m\u001b[0;34m\u001b[0m\u001b[0m\n\u001b[0m\u001b[1;32m     16\u001b[0m \u001b[0;34m\u001b[0m\u001b[0m\n\u001b[1;32m     17\u001b[0m         \u001b[0;31m# Recopilar datos de la simulación actual\u001b[0m\u001b[0;34m\u001b[0m\u001b[0;34m\u001b[0m\u001b[0m\n",
      "\u001b[0;32m/var/folders/kl/780b8_9s0y35m4d8w8w07wfh0000gn/T/ipykernel_86513/3841529331.py\u001b[0m in \u001b[0;36madd_agent\u001b[0;34m(self)\u001b[0m\n\u001b[1;32m     14\u001b[0m         \u001b[0;31m# Seleccionamos el tipo de agente a agregar, con una probabilidad de 0.1 de que sea un IntelligentCar y 0.9 de que sea un Agent\u001b[0m\u001b[0;34m\u001b[0m\u001b[0;34m\u001b[0m\u001b[0m\n\u001b[1;32m     15\u001b[0m         \u001b[0magent_type\u001b[0m \u001b[0;34m=\u001b[0m \u001b[0mrandom\u001b[0m\u001b[0;34m.\u001b[0m\u001b[0mchoices\u001b[0m\u001b[0;34m(\u001b[0m\u001b[0;34m[\u001b[0m\u001b[0mIntelligentCar\u001b[0m\u001b[0;34m,\u001b[0m \u001b[0mAgent\u001b[0m\u001b[0;34m]\u001b[0m\u001b[0;34m,\u001b[0m \u001b[0mweights\u001b[0m\u001b[0;34m=\u001b[0m\u001b[0;34m[\u001b[0m\u001b[0;36m0.25\u001b[0m\u001b[0;34m,\u001b[0m \u001b[0;36m0.75\u001b[0m\u001b[0;34m]\u001b[0m\u001b[0;34m)\u001b[0m\u001b[0;34m[\u001b[0m\u001b[0;36m0\u001b[0m\u001b[0;34m]\u001b[0m\u001b[0;34m\u001b[0m\u001b[0;34m\u001b[0m\u001b[0m\n\u001b[0;32m---> 16\u001b[0;31m         \u001b[0mnew_agent\u001b[0m \u001b[0;34m=\u001b[0m \u001b[0magent_type\u001b[0m\u001b[0;34m(\u001b[0m\u001b[0;34m)\u001b[0m\u001b[0;34m\u001b[0m\u001b[0;34m\u001b[0m\u001b[0m\n\u001b[0m\u001b[1;32m     17\u001b[0m \u001b[0;34m\u001b[0m\u001b[0m\n\u001b[1;32m     18\u001b[0m         \u001b[0;32mif\u001b[0m \u001b[0;32mnot\u001b[0m \u001b[0mself\u001b[0m\u001b[0;34m.\u001b[0m\u001b[0magents\u001b[0m\u001b[0;34m:\u001b[0m\u001b[0;34m\u001b[0m\u001b[0;34m\u001b[0m\u001b[0m\n",
      "\u001b[0;32m/var/folders/kl/780b8_9s0y35m4d8w8w07wfh0000gn/T/ipykernel_86513/1208550300.py\u001b[0m in \u001b[0;36m__init__\u001b[0;34m(self)\u001b[0m\n\u001b[1;32m     16\u001b[0m         \u001b[0;31m# Asignar una de las imágenes uniformemente\u001b[0m\u001b[0;34m\u001b[0m\u001b[0;34m\u001b[0m\u001b[0m\n\u001b[1;32m     17\u001b[0m         \u001b[0mimage_name\u001b[0m \u001b[0;34m=\u001b[0m \u001b[0mrandom\u001b[0m\u001b[0;34m.\u001b[0m\u001b[0mchoice\u001b[0m\u001b[0;34m(\u001b[0m\u001b[0magent_image_names_intelligent\u001b[0m\u001b[0;34m)\u001b[0m\u001b[0;34m\u001b[0m\u001b[0;34m\u001b[0m\u001b[0m\n\u001b[0;32m---> 18\u001b[0;31m         \u001b[0mself\u001b[0m\u001b[0;34m.\u001b[0m\u001b[0mload_agent_image\u001b[0m\u001b[0;34m(\u001b[0m\u001b[0mimage_name\u001b[0m\u001b[0;34m)\u001b[0m\u001b[0;34m\u001b[0m\u001b[0;34m\u001b[0m\u001b[0m\n\u001b[0m\u001b[1;32m     19\u001b[0m \u001b[0;34m\u001b[0m\u001b[0m\n\u001b[1;32m     20\u001b[0m     \u001b[0;32mdef\u001b[0m \u001b[0mload_agent_image\u001b[0m\u001b[0;34m(\u001b[0m\u001b[0mself\u001b[0m\u001b[0;34m,\u001b[0m \u001b[0mimage_name\u001b[0m\u001b[0;34m)\u001b[0m\u001b[0;34m:\u001b[0m\u001b[0;34m\u001b[0m\u001b[0;34m\u001b[0m\u001b[0m\n",
      "\u001b[0;32m/var/folders/kl/780b8_9s0y35m4d8w8w07wfh0000gn/T/ipykernel_86513/1208550300.py\u001b[0m in \u001b[0;36mload_agent_image\u001b[0;34m(self, image_name)\u001b[0m\n\u001b[1;32m     23\u001b[0m \u001b[0;34m\u001b[0m\u001b[0m\n\u001b[1;32m     24\u001b[0m         \u001b[0;31m# Cargar y ajustar la imagen\u001b[0m\u001b[0;34m\u001b[0m\u001b[0;34m\u001b[0m\u001b[0m\n\u001b[0;32m---> 25\u001b[0;31m         \u001b[0mself\u001b[0m\u001b[0;34m.\u001b[0m\u001b[0mimage\u001b[0m \u001b[0;34m=\u001b[0m \u001b[0mpygame\u001b[0m\u001b[0;34m.\u001b[0m\u001b[0mimage\u001b[0m\u001b[0;34m.\u001b[0m\u001b[0mload\u001b[0m\u001b[0;34m(\u001b[0m\u001b[0mimage_path\u001b[0m\u001b[0;34m)\u001b[0m\u001b[0;34m\u001b[0m\u001b[0;34m\u001b[0m\u001b[0m\n\u001b[0m\u001b[1;32m     26\u001b[0m         \u001b[0mself\u001b[0m\u001b[0;34m.\u001b[0m\u001b[0mimage\u001b[0m \u001b[0;34m=\u001b[0m \u001b[0mpygame\u001b[0m\u001b[0;34m.\u001b[0m\u001b[0mtransform\u001b[0m\u001b[0;34m.\u001b[0m\u001b[0mscale\u001b[0m\u001b[0;34m(\u001b[0m\u001b[0mself\u001b[0m\u001b[0;34m.\u001b[0m\u001b[0mimage\u001b[0m\u001b[0;34m,\u001b[0m \u001b[0;34m(\u001b[0m\u001b[0mself\u001b[0m\u001b[0;34m.\u001b[0m\u001b[0mlength\u001b[0m\u001b[0;34m,\u001b[0m \u001b[0;36m20\u001b[0m\u001b[0;34m)\u001b[0m\u001b[0;34m)\u001b[0m\u001b[0;34m\u001b[0m\u001b[0;34m\u001b[0m\u001b[0m\n\u001b[1;32m     27\u001b[0m \u001b[0;34m\u001b[0m\u001b[0m\n",
      "\u001b[0;31mKeyboardInterrupt\u001b[0m: "
     ]
    }
   ],
   "source": [
    "import statistics\n",
    "\n",
    "def run_simulation_multiple_times(num_simulations):\n",
    "    total_time_on_road = []\n",
    "    total_collisions = []\n",
    "\n",
    "    for _ in range(num_simulations):\n",
    "        # Crear una nueva carretera para cada simulación\n",
    "        general_paz = Road(1000, True)  # Ajusta los parámetros según tus necesidades\n",
    "\n",
    "        # Ejecutar la simulación\n",
    "        general_paz.add_agent()  # Agrega al menos un agente inicialmente\n",
    "\n",
    "        while general_paz.time < general_paz.total_time:\n",
    "            general_paz.add_agent()\n",
    "\n",
    "        # Recopilar datos de la simulación actual\n",
    "        total_time_on_road.append(general_paz.time)\n",
    "        total_collisions.append(general_paz.collision_count)\n",
    "\n",
    "    # Calcular el tiempo promedio en la carretera y la cantidad total de choques\n",
    "    average_time_on_road = statistics.mean(total_time_on_road)\n",
    "    total_collisions = statistics.mean(total_collisions)\n",
    "\n",
    "    return average_time_on_road, total_collisions\n",
    "\n",
    "# Ejemplo de cómo llamar a la función\n",
    "num_simulations = 1  # Número de simulaciones que deseas ejecutar\n",
    "avg_time, total_collisions = run_simulation_multiple_times(num_simulations)\n",
    "\n",
    "print(f\"Tiempo promedio en la carretera en {num_simulations} simulaciones: {avg_time}\")\n",
    "print(f\"Promedio de choques en {num_simulations} simulaciones: {round(total_collisions)}\")\n"
   ]
  },
  {
   "cell_type": "code",
   "execution_count": null,
   "metadata": {},
   "outputs": [
    {
     "data": {
      "image/png": "[encoded data removed]",
      "text/plain": [
       "<Figure size 640x480 with 1 Axes>"
      ]
     },
     "metadata": {},
     "output_type": "display_data"
    }
   ],
   "source": [
    "trip_times = pd.read_csv('./data/trip_times.csv')\n",
    "\n",
    "plt.hist(trip_times['Time'], bins=10)\n",
    "plt.xlabel('Tiempo de viaje (s)')\n",
    "plt.ylabel('Frecuencia (%)')\n",
    "plt.title('Histograma de tiempos de viaje')\n",
    "\n",
    "plt.show()"
   ]
  },
  {
   "cell_type": "code",
   "execution_count": null,
   "metadata": {},
   "outputs": [],
   "source": []
  }
 ],
 "metadata": {
  "kernelspec": {
   "display_name": "Python 3.9.13 ('base')",
   "language": "python",
   "name": "python3"
  },
  "language_info": {
   "codemirror_mode": {
    "name": "ipython",
    "version": 3
   },
   "file_extension": ".py",
   "mimetype": "text/x-python",
   "name": "python",
   "nbconvert_exporter": "python",
   "pygments_lexer": "ipython3",
   "version": "3.9.13"
  },
  "orig_nbformat": 4,
  "vscode": {
   "interpreter": {
    "hash": "8b227c73194924edd0a0ade3c617328ad4ed82e492e1afcb6485c0de2a34143f"
   }
  }
 },
 "nbformat": 4,
 "nbformat_minor": 2
}
