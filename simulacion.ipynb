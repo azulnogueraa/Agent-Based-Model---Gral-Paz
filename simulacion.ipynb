{
 "cells": [
  {
   "cell_type": "markdown",
   "metadata": {},
   "source": [
    "## Descripción del modelo"
   ]
  },
  {
   "cell_type": "markdown",
   "metadata": {},
   "source": [
    "### Objetivo"
   ]
  },
  {
   "cell_type": "markdown",
   "metadata": {},
   "source": [
    "Nuestro objetivo es implementar una simulación realista de la Avenida General Paz. En los tramos de Liniers a Lugones. "
   ]
  },
  {
   "cell_type": "markdown",
   "metadata": {},
   "source": [
    "### Entidades / Agentes"
   ]
  },
  {
   "cell_type": "markdown",
   "metadata": {},
   "source": [
    "Las entidades del modelo, qué serán los qué circulen por él, en nuestro modelo corresponden a los automóviles con sus respectivos conductores. Los agentes son autónomos, es decir, están dotados con comportamientos que les permiten tomar decisiones independientes."
   ]
  },
  {
   "cell_type": "markdown",
   "metadata": {},
   "source": [
    "### Atributos"
   ]
  },
  {
   "cell_type": "markdown",
   "metadata": {},
   "source": [
    "Las entidades tienen distintos atributos que lo describen como:\n",
    "\n",
    "- Posición **(x)**.\n",
    "- Velocidad **(v)**.\n",
    "- Velocidad máxima del vehículo **(vmax)**.\n",
    "- Longitud del auto. **(l)**.\n",
    "- Aceleración y desaceleración (cuanto tarda el vehículo en promedio en llegar de 0 a 80 y de 80 a 0 km/h) **(a)**.\n",
    "- Tiempo de permanencia en la autopista **(t)**.\n",
    "- Tiempo de reacción de frenado. **(tr)**\n",
    "\n",
    "##### Interacción con otros agentes\n",
    "Cada agente tiene un vehiculo por detras y por delante. Del vehiculo de adelante dependerá si el agente frena o no. Las reducciones de velocidad son las que causarán los *shockwaves*. \n",
    "\n",
    "- Distancia entre vehículo de atras **(bd)**.\n",
    "- Distancia entre vehiculo de adelante **(fd)**. \n",
    "\n",
    "##### Comportamiento\n",
    "- Los agentes reaccionan (mantienen su velocidad, aceleran y desaceleran) dependiendo de el ambiente y su vecindario. \n",
    "- Un agente podrá acelerar/desacelerar si el auto de adelante se lo permite. \n",
    "- Dependiendo de el comportamiento del agente que maneje el vehiculo, el mismo:\n",
    "  -  respetará los limites de velocidad o no.\n",
    "  -   tendrá mas o menos probabilidad de choque.\n"
   ]
  },
  {
   "cell_type": "markdown",
   "metadata": {},
   "source": [
    "### Ambiente"
   ]
  },
  {
   "cell_type": "markdown",
   "metadata": {},
   "source": [
    "El ambiente de nuestro agent-based transportation model será la infraestructura y capacidades de los nodos y enlaces de la red vial. Estas capacidades crean efectos de congestión (velocidades de viaje reducidas) limitando el número de agentes que se desplazan a través de la red de transporte en un momento dado."
   ]
  },
  {
   "cell_type": "markdown",
   "metadata": {},
   "source": [
    "### Variables de Decisión"
   ]
  },
  {
   "cell_type": "markdown",
   "metadata": {},
   "source": [
    "Las variables de decisión son las qué generarán distintas alternativas o escenarios en el modelo. Es decir, estas serán las qué ayudarán a determinar cuál es el layout óptimo para la solución.\n",
    "- Agregar peaje o no\n",
    "- Agregar semáforos y cuantos.\n",
    "- Agregar cámaras de fotomultas y cuantas."
   ]
  },
  {
   "cell_type": "markdown",
   "metadata": {},
   "source": [
    "### Variables de Referencia"
   ]
  },
  {
   "cell_type": "markdown",
   "metadata": {},
   "source": [
    "Las variables de referencia son las obtenidas cómo resultado de la simulación. Se buscará mejorarlas en función al objetivo.\n",
    "Tiempo promedio de recorrido de los vehículos."
   ]
  },
  {
   "cell_type": "markdown",
   "metadata": {},
   "source": [
    "### Variables de Estado"
   ]
  },
  {
   "cell_type": "markdown",
   "metadata": {},
   "source": [
    "Las variables de estado son aquellas qué contienen la información necesaria para describir la situación actual de los recursos.\n",
    "- Tasa de Ocupación en las principales zonas de aglomeración.\n",
    "- Tasa de ocupación ocasionada por accidentes, vehículos detenidos, obras en la ruta, policías parando, etc.\n",
    "- Tasa de ocupación ocasionada por mal tiempo.\n",
    "- Tasa de ocupación del peaje o semáforos  (si es que se agregan)."
   ]
  },
  {
   "cell_type": "markdown",
   "metadata": {},
   "source": [
    "### Recursos"
   ]
  },
  {
   "cell_type": "markdown",
   "metadata": {},
   "source": [
    "- Los recursos utilizados en el modelo son:\n",
    "- Las cámaras\n",
    "- Los peajes \n",
    "- Los carteles de velocidad / Avisos. "
   ]
  },
  {
   "cell_type": "markdown",
   "metadata": {},
   "source": [
    "### Distribuciones"
   ]
  },
  {
   "cell_type": "markdown",
   "metadata": {},
   "source": [
    "#### Distribución de arribos de vehiculos"
   ]
  },
  {
   "cell_type": "markdown",
   "metadata": {},
   "source": [
    "Optado por la utilización de una *distribución exponencial negativa* como modelo para representar los arribos de vehículos, y esta elección se fundamenta en diversas consideraciones clave.\n",
    "\n",
    "La distribución exponencial negativa es una selección frecuentemente empleada en la modelación de procesos de llegada aleatoria. En el contexto de rutas de vehículos, esta distribución se ajusta adecuadamente cuando se asume que los arribos de vehículos son eventos independientes y se producen a una tasa constante a lo largo del tiempo. En otras palabras, la probabilidad de que un vehículo llegue en un periodo determinado es constante y no depende del momento en que llegaron los vehículos previos.\n",
    "\n",
    "Sin embargo, es fundamental destacar que emplearemos parámetros diferentes para la distribución, dependiendo de la franja horaria en la que nos encontremos, ya sea durante las horas pico o en otros momentos del día.\n",
    "\n",
    "La distribución que elegiremos para modelar los arribos será la siguiente:\n",
    "$$f(x | \\lambda) = e^{(-\\lambda x)}$$\n",
    "\n",
    "$$\n",
    "\\lambda =\n",
    "\\begin{cases}\n",
    "\\frac{1}{\\mu_1} = \\frac{1}{15 \\text{s}} \\, & \\text{si es hora pico} \\\\\n",
    "\\frac{1}{\\mu_2} = \\frac{1}{45 \\text{s}}, & \\text{si no es hora pico}\n",
    "\\end{cases}\n",
    "$$"
   ]
  },
  {
   "cell_type": "markdown",
   "metadata": {},
   "source": [
    "#### Distribución de velocidad"
   ]
  },
  {
   "cell_type": "markdown",
   "metadata": {},
   "source": [
    "La distribución triangular es una elección adecuada para simular la velocidad de los autos en una ruta con un mínimo de 30 km/h, una moda de 70 km/h y un máximo de 100 km/h por lo siguiente:\n",
    "\n",
    "Es una distribución continua que permite modelar situaciones en las que existe un valor mínimo, un valor máximo y un valor modal. En el contexto de la velocidad de los autos en una carretera, es razonable suponer que la mayoría de los autos se moverán a una velocidad cercana a la moda (70 km/h) y que habrá algunos que irán más rápido o más lento. Esto se ajusta bien a la forma de la distribución triangular.\n",
    "\n",
    "$$\n",
    "f(x) = \\begin{cases}\n",
    "0 & \\text{si } x < 30 \\\\\n",
    "\\frac{2(x-30)}{(70-30)(100-30)} & \\text{si } 30 \\leq x < 70 \\\\\n",
    "\\frac{2(70-x)}{(70-30)(70-100)} & \\text{si } 100 \\leq x \\leq 70 \\\\\n",
    "0 & \\text{si } x > 100\n",
    "\\end{cases}\n",
    "$$"
   ]
  },
  {
   "cell_type": "markdown",
   "metadata": {},
   "source": [
    "#### Distribución de variación de velocidad"
   ]
  },
  {
   "cell_type": "markdown",
   "metadata": {},
   "source": [
    "En nuestra simulación de la Gral. Paz, cada agente se comporta de manera única y puede variar en su velocidad debido a diferentes factores, como la relación con otros agentes y las condiciones del entorno. Para modelar esta variación de velocidad, inicialmente utilizamos la distribución triangular, que nos proporciona una velocidad modal estimada para cada agente.\n",
    "\n",
    "Sin embargo, sabemos que los agentes no mantendrán una velocidad constante en la carretera, ya que pueden optar por no respetar las leyes de velocidad, frenar de manera abrupta o ajustar su velocidad de acuerdo con la situación. Por lo tanto, para capturar esta variabilidad en la velocidad de manera más realista, decidimos emplear la distribución normal.\n",
    "\n",
    "La distribución normal se seleccionó como una opción apropiada para modelar la variación de velocidad de los agentes debido a sus ventajas. Esta distribución es ampliamente reconocida por su capacidad para representar la variabilidad en datos del mundo real. Además, su simetría y versatilidad permiten modelar la idea de que algunos agentes pueden conducir a velocidades más altas o más bajas que la velocidad modal, mientras que la mayoría se mantendrá cerca de esta velocidad central.\n",
    "\n",
    "La distribución normal también se ajusta fácilmente mediante la variación de la varianza, lo que nos permite controlar el grado de variación en las velocidades de los agentes de acuerdo con las necesidades de nuestra simulación.\n",
    "\n",
    "$$\n",
    "f(x) = \\frac{1}{\\sigma \\sqrt{2\\pi}} e^{-\\frac{(x-\\mu)^2}{2\\sigma^2}}\n",
    "$$\n",
    "\n",
    "$$\n",
    "\\begin{align*}\n",
    "\\mu & \\text{ es la velocidad del agente obtenida a partir de la distribución triangular}, \\\\\n",
    "\\sigma & = 5 \\text{ km/h} \\text{ (varianza)}.\n",
    "\\end{align*}\n",
    "$$\n"
   ]
  },
  {
   "cell_type": "markdown",
   "metadata": {},
   "source": [
    "#### Distribución de frenado"
   ]
  },
  {
   "cell_type": "markdown",
   "metadata": {},
   "source": [
    "Elegimos la *distribución exponencial* como modelo para la fuerza de frenado de los vehículos en función de su proximidad al vehículo de adelante debido a varias razones fundamentales:\n",
    "\n",
    "1. **Falta de Memoria a Largo Plazo:** Esta propiedad implica que la probabilidad de que un vehículo frene con fuerza en un momento dado no depende de cuánto tiempo haya transcurrido desde el último frenado. En otras palabras, cada vehículo toma decisiones de frenado independientes en función de su proximidad actual al vehículo de adelante. Esta falta de dependencia temporal es esencial para capturar situaciones realistas en el tráfico, donde los eventos de frenado ocurren de manera estocástica y no están vinculados a eventos previos.\n",
    "\n",
    "2. **Ajuste de la \"Agresividad\" del Frenado:** La distribución exponencial nos brinda la flexibilidad de ajustar el grado de \"agresividad\" en el frenado de los vehículos a través del parámetro de tasa (λ). Al variar el valor de λ, podemos modelar diferentes comportamientos de frenado. Un valor más alto de λ indica que los vehículos son menos propensos a frenar con fuerza cuando están cerca del vehículo de adelante, lo que podría representar situaciones de tráfico más fluidas. Por otro lado, un valor más bajo de λ indica una mayor probabilidad de frenado en distancias cercanas, lo que podría reflejar situaciones de tráfico más congestionadas o conductores más cautelosos.\n",
    "\n",
    "3. **Modelización de Eventos Independientes:** La distribución exponencial es ampliamente utilizada para modelar eventos aleatorios que ocurren de manera independiente a lo largo del tiempo. En el contexto del tráfico, asumimos que los frenados de los vehículos son eventos estocásticos e independientes, ya que las decisiones de frenado de un vehículo no están influenciadas por los eventos de frenado de otros vehículos en el pasado. Esta suposición es coherente con la variabilidad inherente a las interacciones de tráfico en situaciones reales.\n",
    "\n",
    "La formula que utilizaremos será la siguiente:\n",
    "$$f(x | \\lambda) = 1 - e^{(-\\lambda x)}$$\n",
    "\n",
    "$$\n",
    "\\lambda =\n",
    "\\begin{cases}\n",
    "\\frac{1}{\\mu_1} = \\frac{1}{1s}, & \\text{ si } \\text{dist\\_to\\_front\\_agent()} ≤ 10 \\text{m} \\\\\n",
    "\\frac{1}{\\mu_2} = \\frac{1}{3s}, & \\text{ si } \\text{dist\\_to\\_front\\_agent()} > 10 \\text{m}\n",
    "\\end{cases}\n",
    "$$\n",
    "\n"
   ]
  },
  {
   "cell_type": "markdown",
   "metadata": {},
   "source": [
    "#### Distribución del tiempo de reacción del agente"
   ]
  },
  {
   "cell_type": "markdown",
   "metadata": {},
   "source": [
    "Elegimos la *distribución normal* para simular el tiempo de reacción debido a su capacidad para representar la variabilidad realista en los tiempos de reacción de las personas al frenar. La distribución normal se ajusta bien a situaciones en las que la mayoría de los individuos tienen tiempos de reacción cercanos a un valor promedio (la media), con menos personas que experimentan tiempos de reacción significativamente más cortos o más largos. Esto refleja con precisión cómo la mayoría de las personas conducen con tiempos de reacción similares, pero aún existe variabilidad natural. \n",
    "\n",
    "Luego de una busqueda de estudios de investigación acerca del comportamiento de los conductores en la autopista Gral. Paz y otras autopistas de Buenos Aires, encontramos que la media de el tiempo de reacción se aproxima a 1s con un desvio de 0.2s.\n",
    "\n",
    "$$\n",
    "f(x) = \\frac{1}{\\sigma \\sqrt{2\\pi}} e^{-\\frac{(x-\\mu)^2}{2\\sigma^2}}\n",
    "$$\n",
    "\n",
    "$$\n",
    "\\begin{align*}\n",
    "\\mu & = 1s \\\\\n",
    "\\sigma & = 0.2s\n",
    "\\end{align*}\n",
    "$$"
   ]
  },
  {
   "cell_type": "markdown",
   "metadata": {},
   "source": [
    "## Simulación"
   ]
  },
  {
   "cell_type": "code",
   "execution_count": 1,
   "metadata": {},
   "outputs": [
    {
     "name": "stdout",
     "output_type": "stream",
     "text": [
      "pygame 2.5.1 (SDL 2.28.2, Python 3.9.13)\n",
      "Hello from the pygame community. https://www.pygame.org/contribute.html\n"
     ]
    }
   ],
   "source": [
    "import random \n",
    "from typing import Optional\n",
    "import matplotlib.animation as animation\n",
    "from matplotlib.animation import FuncAnimation\n",
    "import matplotlib.pyplot as plt\n",
    "from scipy import stats\n",
    "import numpy as np\n",
    "\n",
    "import pygame\n",
    "import sys"
   ]
  },
  {
   "cell_type": "code",
   "execution_count": 2,
   "metadata": {},
   "outputs": [],
   "source": [
    "class Agent(pygame.sprite.Sprite):\n",
    "\n",
    "    def __init__(self):\n",
    "        self.position = 0                                             #posición inicial, todos los autos entran al inicio de la autopista\n",
    "        self.max_velocity = 80/3.6                                    #velocidad maxima, todos los autos tienen la misma velocidad maxima (sabemos que en la Gral. Paz es de 80 km/h)  \n",
    "        self.length = 5                                               #longitud del vehiculo, todos los autos tienen la misma longitud \n",
    "        self.front_agent = None                                       #agente de adelante\n",
    "        self.back_agent = None                                        #agente de atras\n",
    "        \n",
    "        '''\n",
    "        velocidad de agente es generada a partir de la distribución triangular con los siguientes parametros:\n",
    "        - 30,000 m/s: velocidad minima\n",
    "        - 100,000 m/s: velocidad maxima\n",
    "        - 70,000 m/s: moda\n",
    "        '''\n",
    "        self.velocity = random.triangular(30/3.6, 100/3.6, 70/3.6)\n",
    "        self.time = 0\n",
    "        self.arrival_time = 0\n",
    "    \n",
    "        self.reaction_time = random.normalvariate(1, 0.2) \n",
    "    \n",
    "    def __str__(self):\n",
    "        front_agent_info = (\n",
    "            f\"(t={self.front_agent.time}, x={self.front_agent.position}, \"\n",
    "            f\"v={self.front_agent.velocity})\"\n",
    "            if self.front_agent is not None else \"None\"\n",
    "        )\n",
    "        \n",
    "        back_agent_info = (\n",
    "            f\"(t={self.back_agent.time}, x={self.back_agent.position}, \"\n",
    "            f\"v={self.back_agent.velocity})\"\n",
    "            if self.back_agent is not None else \"None\"\n",
    "        )\n",
    "        \n",
    "        return (\n",
    "            f\"Agent(t={self.time}, at={self.arrival_time}, x={self.position}, \"\n",
    "            f\"v={self.velocity}, rt={self.reaction_time}, \"\n",
    "            f\"fa={front_agent_info}, ba={back_agent_info})\"\n",
    "        )\n",
    "\n",
    "    def dist_to_front_agent(self):\n",
    "        if self.front_agent == None:\n",
    "            return None\n",
    "\n",
    "        else: #hay otro agente adelante\n",
    "            return abs(self.position - self.front_agent.position - self.length)\n",
    "\n",
    "\n",
    "    def dist_to_back_agent(self):\n",
    "        if self.back_agent == None:\n",
    "            return None\n",
    "\n",
    "        else: #hay otro agent atras\n",
    "            return abs(self.back_agent.position - self.position - self.back_agent.length)\n",
    "\n",
    "    def speed_variation(self):\n",
    "        if self.dist_to_front_agent() == None or self.dist_to_front_agent() >= 20:\n",
    "            self.velocity = random.normalvariate(self.velocity, 5/3.6)\n",
    "\n",
    "\n",
    "    def reduce_speed(self):\n",
    "        # si se encuentra \"cerca\" del agente de adelante, reducirá su velocidad mediante una distribución exponencial con media 1.\n",
    "        if self.dist_to_front_agent() is not None and self.dist_to_front_agent() < 10:\n",
    "            reduction = (self.velocity - self.front_agent.velocity) / (1 - stats.expon.rvs(1/1))\n",
    "            self.velocity -= reduction  # Reducir la velocidad\n",
    "            \n",
    "        # si se encuentra \"lejos\" del agente de adelante, reducirá su velocidad mediante una distribución exponencial con media 3.\n",
    "        elif self.dist_to_front_agent() is not None and 10 <= self.dist_to_front_agent() <= 20:\n",
    "            reduction = (self.velocity - self.front_agent.velocity) /(1 - stats.expon.rvs(1/3))\n",
    "            self.velocity -= reduction  # Reducir la velocidad\n",
    "\n",
    "\n",
    "    def move(self):\n",
    "        self.position = self.position + self.velocity * 1 \n",
    "    \n",
    "    def get_position(self):\n",
    "        return self.position\n",
    "\n",
    "    def update(self):\n",
    "        self.move()\n",
    "        self.reduce_speed()\n",
    "        self.speed_variation()"
   ]
  },
  {
   "cell_type": "code",
   "execution_count": 3,
   "metadata": {},
   "outputs": [],
   "source": [
    "class Road:\n",
    "    \n",
    "    def __init__(self, m:int, c:bool):\n",
    "        self.km = m\n",
    "        self.agents = []\n",
    "        self.time = 0\n",
    "        self.total_time = 700\n",
    "        self.congestion = c\n",
    "    \n",
    "    def add_agent(self, rate):\n",
    "        # Si no hay agentes en la Gral.Paz, agregamos el primer agente\n",
    "        if not self.agents:\n",
    "            print(\"Agregando primer agente...\")\n",
    "            self.agents.append(Agent())\n",
    "            print(\"Primer agente agregado: \" + str(self.agents[0]))\n",
    "            \n",
    "            self.time_to_next_arrival = stats.expon.rvs(scale=1/rate)\n",
    "\n",
    "        else:\n",
    "            # Verificamos el tiempo desde el último agente\n",
    "            if self.time - self.agents[-1].arrival_time > self.time_to_next_arrival:\n",
    "                print(\"Agregando agente nro. \", len(self.agents))\n",
    "                # Agregamos un nuevo agente a la lista\n",
    "                new_agent = Agent()\n",
    "                self.agents.append(new_agent)\n",
    "                new_agent.arrival_time = self.time\n",
    "                self.time_to_next_arrival = stats.expon.rvs(scale=1/rate)\n",
    "                \n",
    "                if len(self.agents) == 2:\n",
    "                    position_new_agent = self.agents.index(new_agent)\n",
    "                    new_agent.front_agent = self.agents[position_new_agent - 1]\n",
    "                    self.agents[position_new_agent - 1].back_agent = new_agent\n",
    "\n",
    "                # Configuramos el front y back car para el nuevo agente\n",
    "                elif len(self.agents) >= 2:\n",
    "                    position_new_agent = self.agents.index(new_agent)\n",
    "                    new_agent.front_agent = self.agents[position_new_agent - 1]\n",
    "                    self.agents[position_new_agent - 1].back_agent = new_agent\n",
    "\n",
    "        self.update_road()\n",
    "\n",
    "    def time_lapse(self):\n",
    "        while self.time < self.total_time:\n",
    "            if self.congestion == True:\n",
    "                # Agrega autos con distribución exponencial negativa con media = 15\n",
    "                self.add_agent(15)\n",
    "            else:\n",
    "                # Agrega autos con distribución exponencial negativa con media = 45\n",
    "                self.add_agent(45)\n",
    "        \n",
    "    \n",
    "    def update_road(self):\n",
    "        self.time += 1\n",
    "        for agent in self.agents:\n",
    "            agent.update()\n",
    "            print(\"Estado agente nro:\", self.agents.index(agent), \"->\", agent)\n",
    "            # print(\"Posición del agente:\", self.agents.index(agent), \"->\", agent.get_position())\n",
    "            \n",
    "            #Si el agente llega al final de la carretera lo eliminamos\n",
    "            if agent.get_position() > self.km:\n",
    "                self.agents.remove(agent)\n",
    "\n",
    "            #Reasignamos el front y back car de los agentes extremos de la lista\n",
    "            if len(self.agents) > 0:\n",
    "                self.agents[0].front_agent = None\n",
    "\n",
    "        self.time_lapse()\n",
    "        \n",
    "    def plot(self):\n",
    "        positions = []  # Lista para almacenar las posiciones de los agentes\n",
    "        for agent in self.agents:\n",
    "            positions.append(agent.get_position())  # Almacena la posición del agente en la lista\n",
    "\n",
    "        return positions  # Devuelve la lista de posiciones para la animación"
   ]
  },
  {
   "cell_type": "code",
   "execution_count": null,
   "metadata": {},
   "outputs": [],
   "source": [
    "road = Road(m=25000, c=True)\n",
    "road.time_lapse()"
   ]
  },
  {
   "cell_type": "code",
   "execution_count": 5,
   "metadata": {},
   "outputs": [],
   "source": [
    "import pygame\n",
    "import sys\n",
    "\n",
    "# Inicializar Pygame\n",
    "pygame.init()\n",
    "\n",
    "# Configuración de la ventana\n",
    "width, height = 1000, 200\n",
    "screen = pygame.display.set_mode((width, height))\n",
    "pygame.display.set_caption(\"Avenida General Paz\")\n",
    "\n",
    "# Colores\n",
    "white = (255, 255, 255)\n",
    "gray = (200, 200, 200)\n",
    "green = (0, 150, 0)\n",
    "black = (0, 0, 0)\n",
    "\n",
    "# Crear una carretera\n",
    "general_paz = Road(1000, True)\n",
    "\n",
    "# Bucle principal\n",
    "running = True\n",
    "while running:\n",
    "    for event in pygame.event.get():\n",
    "        if event.type == pygame.QUIT:\n",
    "            running = False\n",
    "\n",
    "    # Actualizar la carretera y los agentes en cada iteración\n",
    "    general_paz.update_road()\n",
    "\n",
    "   # Dibujar el pasto verde arriba de la carretera\n",
    "    pygame.draw.rect(screen, green, (0, 0, width, height // 3))\n",
    "\n",
    "    # Carretera gris\n",
    "    pygame.draw.rect(screen, gray, (0, height // 3, width, height // 3))\n",
    "\n",
    "    # Dibujar el pasto verde abajo de la carretera\n",
    "    pygame.draw.rect(screen, green, (0, 2 * height // 3, width, height // 3))\n",
    "\n",
    "\n",
    "    # Líneas blancas en el medio de la carretera\n",
    "    line_width = 10\n",
    "    line_height = 5\n",
    "    num_lines = 30\n",
    "    gap = width // (num_lines + 1)\n",
    "    for i in range(num_lines):\n",
    "        x = (i + 1) * gap - line_width // 2\n",
    "        pygame.draw.rect(screen, white, (x, height // 2 - line_height // 2, line_width, line_height))\n",
    "\n",
    "\n",
    "# Dibujar los agentes en la carretera\n",
    "    for agent in general_paz.agents:\n",
    "        pygame.draw.rect(screen, black, (agent.get_position(), height // 3 - 10, agent.length, 20))\n",
    "\n",
    "    pygame.display.flip()\n",
    "\n",
    "# Salir del juego\n",
    "pygame.quit()\n",
    "sys.exit()\n"
   ]
  }
 ],
 "metadata": {
  "kernelspec": {
   "display_name": "Python 3.9.13 ('base')",
   "language": "python",
   "name": "python3"
  },
  "language_info": {
   "codemirror_mode": {
    "name": "ipython",
    "version": 3
   },
   "file_extension": ".py",
   "mimetype": "text/x-python",
   "name": "python",
   "nbconvert_exporter": "python",
   "pygments_lexer": "ipython3",
   "version": "3.9.13"
  },
  "orig_nbformat": 4,
  "vscode": {
   "interpreter": {
    "hash": "8b227c73194924edd0a0ade3c617328ad4ed82e492e1afcb6485c0de2a34143f"
   }
  }
 },
 "nbformat": 4,
 "nbformat_minor": 2
}
