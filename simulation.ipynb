{
 "cells": [
  {
   "attachments": {},
   "cell_type": "markdown",
   "metadata": {},
   "source": [
    "# Agent-Based Model - General Paz"
   ]
  },
  {
   "attachments": {},
   "cell_type": "markdown",
   "metadata": {},
   "source": [
    "## Descripción del modelo"
   ]
  },
  {
   "attachments": {},
   "cell_type": "markdown",
   "metadata": {},
   "source": [
    "### Objetivo"
   ]
  },
  {
   "attachments": {},
   "cell_type": "markdown",
   "metadata": {},
   "source": [
    "Nuestro objetivo es implementar una simulación realista de la Avenida General Paz. En los tramos de Liniers a Lugones. "
   ]
  },
  {
   "attachments": {},
   "cell_type": "markdown",
   "metadata": {},
   "source": [
    "### Entidades / Agentes"
   ]
  },
  {
   "attachments": {},
   "cell_type": "markdown",
   "metadata": {},
   "source": [
    "Las entidades del modelo, qué serán los qué circulen por él, en nuestro modelo corresponden a los automóviles con sus respectivos conductores. Los agentes son autónomos, es decir, están dotados con comportamientos que les permiten tomar decisiones independientes."
   ]
  },
  {
   "attachments": {},
   "cell_type": "markdown",
   "metadata": {},
   "source": [
    "### Atributos"
   ]
  },
  {
   "attachments": {},
   "cell_type": "markdown",
   "metadata": {},
   "source": [
    "Las entidades tienen distintos atributos que lo describen como:\n",
    "\n",
    "- Posición **(x)**.\n",
    "- Velocidad **(v)**.\n",
    "- Velocidad máxima del vehículo **(vmax)**.\n",
    "- Longitud del auto. **(l)**.\n",
    "- Aceleración y desaceleración (cuanto tarda el vehículo en promedio en llegar de 0 a 80 y de 80 a 0 km/h) **(a)**.\n",
    "- Tiempo de permanencia en la autopista **(t)**.\n",
    "- Tiempo de reacción de frenado. **(tr)**\n",
    "\n",
    "##### Interacción con otros agentes\n",
    "Cada agente tiene un vehiculo por detras y por delante. Del vehiculo de adelante dependerá si el agente frena o no. Las reducciones de velocidad son las que causarán los *shockwaves*. \n",
    "\n",
    "- Distancia entre vehículo de atras **(bd)**.\n",
    "- Distancia entre vehiculo de adelante **(fd)**. \n",
    "\n",
    "##### Comportamiento\n",
    "- Los agentes reaccionan (mantienen su velocidad, aceleran y desaceleran) dependiendo de el ambiente y su vecindario. \n",
    "- Un agente podrá acelerar/desacelerar si el auto de adelante se lo permite. \n",
    "- Dependiendo de el comportamiento del agente que maneje el vehiculo, el mismo:\n",
    "  -  respetará los limites de velocidad o no.\n",
    "  -   tendrá mas o menos probabilidad de choque.\n"
   ]
  },
  {
   "attachments": {},
   "cell_type": "markdown",
   "metadata": {},
   "source": [
    "### Ambiente"
   ]
  },
  {
   "attachments": {},
   "cell_type": "markdown",
   "metadata": {},
   "source": [
    "El ambiente de nuestro agent-based transportation model será la infraestructura y capacidades de los nodos y enlaces de la red vial. Estas capacidades crean efectos de congestión (velocidades de viaje reducidas) limitando el número de agentes que se desplazan a través de la red de transporte en un momento dado."
   ]
  },
  {
   "attachments": {},
   "cell_type": "markdown",
   "metadata": {},
   "source": [
    "### Variables de Decisión"
   ]
  },
  {
   "attachments": {},
   "cell_type": "markdown",
   "metadata": {},
   "source": [
    "Las variables de decisión son las qué generarán distintas alternativas o escenarios en el modelo. Es decir, estas serán las qué ayudarán a determinar cuál es el layout óptimo para la solución.\n",
    "- Agregar peaje o no\n",
    "- Agregar semáforos y cuantos.\n",
    "- Agregar cámaras de fotomultas y cuantas."
   ]
  },
  {
   "attachments": {},
   "cell_type": "markdown",
   "metadata": {},
   "source": [
    "### Variables de Referencia:  "
   ]
  },
  {
   "attachments": {},
   "cell_type": "markdown",
   "metadata": {},
   "source": [
    "Las variables de referencia son las obtenidas cómo resultado de la simulación. Se buscará mejorarlas en función al objetivo.\n",
    "Tiempo promedio de recorrido de los vehículos."
   ]
  },
  {
   "attachments": {},
   "cell_type": "markdown",
   "metadata": {},
   "source": [
    "### Variables de Estado"
   ]
  },
  {
   "attachments": {},
   "cell_type": "markdown",
   "metadata": {},
   "source": [
    "Las variables de estado son aquellas qué contienen la información necesaria para describir la situación actual de los recursos.\n",
    "- Tasa de Ocupación en las principales zonas de aglomeración.\n",
    "- Tasa de ocupación ocasionada por accidentes, vehículos detenidos, obras en la ruta, policías parando, etc.\n",
    "- Tasa de ocupación ocasionada por mal tiempo.\n",
    "- Tasa de ocupación del peaje o semáforos  (si es que se agregan)."
   ]
  },
  {
   "attachments": {},
   "cell_type": "markdown",
   "metadata": {},
   "source": [
    "### Recursos"
   ]
  },
  {
   "attachments": {},
   "cell_type": "markdown",
   "metadata": {},
   "source": [
    "- Los recursos utilizados en el modelo son:\n",
    "- Las cámaras\n",
    "- Los peajes \n",
    "- Los carteles de velocidad / Avisos. "
   ]
  },
  {
   "attachments": {},
   "cell_type": "markdown",
   "metadata": {},
   "source": [
    "## Simulación"
   ]
  },
  {
   "cell_type": "code",
   "execution_count": 4,
   "metadata": {},
   "outputs": [],
   "source": [
    "import random \n",
    "from typing import Optional\n",
    "import matplotlib.animation as animation\n",
    "import matplotlib.pyplot as plt"
   ]
  },
  {
   "cell_type": "code",
   "execution_count": 5,
   "metadata": {},
   "outputs": [],
   "source": [
    "class Agent:\n",
    "\n",
    "    def __init__(\n",
    "        self, \n",
    "        x:float,                                                #posición\n",
    "        v:float,                                                #velocidad\n",
    "        vmax:float,                                             #velocidad máxima\n",
    "        l:float,                                                #longitud del vehiculo\n",
    "        a:float,                                                #aceleración\n",
    "        tr:float,                                               #tiempo de reacción\n",
    "        c:random.choices([\"estandar\", \"esporadico\"], [0.8, 0.2])[0],  #comportamiento de el agente\n",
    "        fa: Optional[\"Agent\"] = None,                           #agente de adelante\n",
    "        ba: Optional[\"Agent\"] = None,                           #agente de atras\n",
    "    ):\n",
    "    \n",
    "        self.t = 0\n",
    "        self.x = x\n",
    "        self.v = v\n",
    "        self.vmax = vmax\n",
    "        self.l = l\n",
    "        self.a = a\n",
    "        self.tr = tr\n",
    "        self.c = c\n",
    "        self.fa = fa\n",
    "        self.ba = ba\n",
    "\n",
    "    \n",
    "    def __repr__(self): \n",
    "        return f\"Agent(t={self.t}, x={self.x}, v={self.v}, vmax={self.vmax}, l={self.l}, a={self.a}, tr={self.tr}, c={self.c}, fa={self.fa}, ba={self.ba})\"\n",
    "\n",
    "    def __str__(self):\n",
    "        return f\"Agent(t={self.t}, x={self.x}, v={self.v}, vmax={self.vmax}, l={self.l}, a={self.a}, tr={self.tr}, c={self.c}, fa={self.fa}, ba={self.ba})\"\n",
    "    \n",
    "\n",
    "    def dist_to_front_agent(self):\n",
    "        if self.fa == None:\n",
    "            return None\n",
    "\n",
    "        else: #hay otro agente adelante\n",
    "            return abs(self.x - self.fc.x - self.l)\n",
    "\n",
    "\n",
    "    def dist_to_back_agent(self):\n",
    "        if self.ba == None:\n",
    "            return None\n",
    "\n",
    "        else: #hay otro agent atras\n",
    "            return abs(self.bc.x - self.x - self.bc.l)\n",
    "\n",
    "\n",
    "    def acelerar(self):\n",
    "        if self.dist_to_front_agent() is None or self.dist_to_front_agent() > 0:\n",
    "\n",
    "            # si el conductor es \"bueno\" respetará la velocidad maxima\n",
    "            if self.c == \"estandar\" and self.v < self.vmax:\n",
    "                self.v = min(self.v + self.a, self.vmax)\n",
    "\n",
    "            # si el conductor es \"malo\" podria no respetar la velocidad maxima por lo que le sumaremos a su velocidad un numero entre 0 y 30\n",
    "            elif self.c == \"esporadico\":\n",
    "                self.v = self.v + self.a + random.randint(-30, 30)\n",
    "\n",
    "    def desacelerar(self):\n",
    "        # si nos topamos con una reducción de velocidad del auto de adelante nuestro instinto hará que reduzcamos la velocidad.\n",
    "        if self.fa is not None and self.v > self.dist_to_front_agent():\n",
    "\n",
    "            #el agente debe reducir la velocidad porque sino chocará (la reducirá a la velocidad del de adelante)\n",
    "            self.v = self.dist_to_front_agent()\n",
    "\n",
    "    def avanzar(self):\n",
    "        self.x = self.x + self.v\n",
    "    \n",
    "    def posicion(self):\n",
    "        return self.x\n",
    "\n",
    "    def actualizar(self):\n",
    "        self.acelerar()\n",
    "        self.desacelerar()\n",
    "        self.avanzar()\n",
    "        self.t += 1\n"
   ]
  },
  {
   "cell_type": "code",
   "execution_count": 39,
   "metadata": {},
   "outputs": [],
   "source": [
    "class Road:\n",
    "    \n",
    "    def __init__(self, km:int):\n",
    "        self.km = km\n",
    "        self.agents = []\n",
    "        self.t = 0\n",
    "\n",
    "    def __repr__(self):\n",
    "        return f\"Road(km={self.km}, agents={self.agents}, t={self.t})\"\n",
    "    \n",
    "    def agregar_agent(self, agent:Agent):\n",
    "        #comienza al principio de la carretera\n",
    "        #agregamos el agente a la lista de agentes\n",
    "        self.agents.append(agent)\n",
    "        #asignamos su front y su back car teniendo en cuenta la lista de self.agents\n",
    "        if len(self.agents) > 1:\n",
    "            agent.fa = self.agents[-2]\n",
    "            self.agents[-2].ba = agent\n",
    "        \n",
    "    \n",
    "    def actualizar(self):\n",
    "        for agent in self.agents:\n",
    "            agent.actualizar()\n",
    "\n",
    "            #si el agente llega al final de la carretera lo eliminamos\n",
    "            if agent.get_position() > self.km:\n",
    "                self.agents.remove(agent)\n",
    "\n",
    "            #asignamos el front y back car de los agentes extremos de la lista\n",
    "            if len(self.agents) > 0:\n",
    "                self.agents[0].fa = None\n",
    "\n",
    "        self.t += 1\n",
    "\n",
    "        \n",
    "    \n",
    "    def plot(self):\n",
    "        fig, ax = plt.subplots()\n",
    "        ax.plot([agent.x for agent in self.agents], [0 for agent in self.agents], \"o\")\n",
    "        ax.set_xlim(0, self.km)\n",
    "        ax.set_ylim(-1, 1)\n",
    "        ax.set_yticks([])\n",
    "        ax.set_xlabel(\"Position\")\n",
    "        ax.set_title(\"Highway\")\n",
    "        ax.legend()\n",
    "        \n",
    "        plt.show()\n",
    "    \n"
   ]
  },
  {
   "cell_type": "code",
   "execution_count": 41,
   "metadata": {},
   "outputs": [
    {
     "name": "stderr",
     "output_type": "stream",
     "text": [
      "No handles with labels found to put in legend.\n"
     ]
    },
    {
     "data": {
      "image/png": "[encoded data removed]",
      "text/plain": [
       "<Figure size 432x288 with 1 Axes>"
      ]
     },
     "metadata": {
      "needs_background": "light"
     },
     "output_type": "display_data"
    }
   ],
   "source": [
    "agp = Road(km = 1000)\n",
    "\n",
    "agp.agregar_agent(Agent(x=0, v=0, vmax=120, l=5, a=2,tr=1, c=\"esporadico\", fa=None, ba=None  ))\n",
    "agp.agregar_agent(Agent(x=100, v=0, vmax=120, l=5, a=2,tr=1, c=\"estandar\", fa=None, ba=None  ))\n",
    "agp.agregar_agent(Agent(x=200, v=0, vmax=120, l=5, a=2,tr=1, c=\"estandar\", fa=None, ba=None  ))\n",
    "agp.agregar_agent(Agent(x=400, v=0, vmax=120, l=5, a=2,tr=1, c=\"estandar\", fa=None, ba=None  ))\n",
    "agp.agregar_agent(Agent(x=1000,v=0, vmax=120, l=5, a=2,tr=1, c=\"esporadico\", fa=None, ba=None  ))\n",
    "\n",
    "agp.plot()\n"
   ]
  }
 ],
 "metadata": {
  "kernelspec": {
   "display_name": "Python 3.9.13 ('base')",
   "language": "python",
   "name": "python3"
  },
  "language_info": {
   "codemirror_mode": {
    "name": "ipython",
    "version": 3
   },
   "file_extension": ".py",
   "mimetype": "text/x-python",
   "name": "python",
   "nbconvert_exporter": "python",
   "pygments_lexer": "ipython3",
   "version": "3.8.5"
  },
  "orig_nbformat": 4,
  "vscode": {
   "interpreter": {
    "hash": "8b227c73194924edd0a0ade3c617328ad4ed82e492e1afcb6485c0de2a34143f"
   }
  }
 },
 "nbformat": 4,
 "nbformat_minor": 2
}
