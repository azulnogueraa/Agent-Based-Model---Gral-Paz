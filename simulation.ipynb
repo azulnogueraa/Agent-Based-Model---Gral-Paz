{
 "cells": [
  {
   "attachments": {},
   "cell_type": "markdown",
   "metadata": {},
   "source": [
    "# Agent-Based Model - General Paz"
   ]
  },
  {
   "attachments": {},
   "cell_type": "markdown",
   "metadata": {},
   "source": [
    "## Descripción del modelo"
   ]
  },
  {
   "attachments": {},
   "cell_type": "markdown",
   "metadata": {},
   "source": [
    "### Objetivo"
   ]
  },
  {
   "attachments": {},
   "cell_type": "markdown",
   "metadata": {},
   "source": [
    "Nuestro objetivo es implementar una simulación realista de la Avenida General Paz. En los tramos de Liniers a Lugones. "
   ]
  },
  {
   "attachments": {},
   "cell_type": "markdown",
   "metadata": {},
   "source": [
    "### Entidades / Agentes"
   ]
  },
  {
   "attachments": {},
   "cell_type": "markdown",
   "metadata": {},
   "source": [
    "Las entidades del modelo, qué serán los qué circulen por él, en nuestro modelo corresponden a los automóviles con sus respectivos conductores. Los agentes son autónomos, es decir, están dotados con comportamientos que les permiten tomar decisiones independientes."
   ]
  },
  {
   "attachments": {},
   "cell_type": "markdown",
   "metadata": {},
   "source": [
    "### Atributos"
   ]
  },
  {
   "attachments": {},
   "cell_type": "markdown",
   "metadata": {},
   "source": [
    "Las entidades tienen distintos atributos que lo describen como:\n",
    "\n",
    "- Posición **(x)**.\n",
    "- Velocidad **(v)**.\n",
    "- Velocidad máxima del vehículo **(vmax)**.\n",
    "- Longitud del auto. **(l)**.\n",
    "- Aceleración y desaceleración (cuanto tarda el vehículo en promedio en llegar de 0 a 80 y de 80 a 0 km/h) **(a)**.\n",
    "- Tiempo de permanencia en la autopista **(t)**.\n",
    "- Tiempo de reacción de frenado. **(tr)**\n",
    "\n",
    "##### Interacción con otros agentes\n",
    "Cada agente tiene un vehiculo por detras y por delante. Del vehiculo de adelante dependerá si el agente frena o no. Las reducciones de velocidad son las que causarán los *shockwaves*. \n",
    "\n",
    "- Distancia entre vehículo de atras **(bd)**.\n",
    "- Distancia entre vehiculo de adelante **(fd)**. \n",
    "\n",
    "##### Comportamiento\n",
    "- Los agentes reaccionan (mantienen su velocidad, aceleran y desaceleran) dependiendo de el ambiente y su vecindario. \n",
    "- Un agente podrá acelerar/desacelerar si el auto de adelante se lo permite. \n",
    "- Dependiendo de el comportamiento del agente que maneje el vehiculo, el mismo:\n",
    "  -  respetará los limites de velocidad o no.\n",
    "  -   tendrá mas o menos probabilidad de choque.\n"
   ]
  },
  {
   "attachments": {},
   "cell_type": "markdown",
   "metadata": {},
   "source": [
    "### Ambiente"
   ]
  },
  {
   "attachments": {},
   "cell_type": "markdown",
   "metadata": {},
   "source": [
    "El ambiente de nuestro agent-based transportation model será la infraestructura y capacidades de los nodos y enlaces de la red vial. Estas capacidades crean efectos de congestión (velocidades de viaje reducidas) limitando el número de agentes que se desplazan a través de la red de transporte en un momento dado."
   ]
  },
  {
   "attachments": {},
   "cell_type": "markdown",
   "metadata": {},
   "source": [
    "### Variables de Decisión"
   ]
  },
  {
   "attachments": {},
   "cell_type": "markdown",
   "metadata": {},
   "source": [
    "Las variables de decisión son las qué generarán distintas alternativas o escenarios en el modelo. Es decir, estas serán las qué ayudarán a determinar cuál es el layout óptimo para la solución.\n",
    "- Agregar peaje o no\n",
    "- Agregar semáforos y cuantos.\n",
    "- Agregar cámaras de fotomultas y cuantas."
   ]
  },
  {
   "attachments": {},
   "cell_type": "markdown",
   "metadata": {},
   "source": [
    "### Variables de Referencia:  "
   ]
  },
  {
   "attachments": {},
   "cell_type": "markdown",
   "metadata": {},
   "source": [
    "Las variables de referencia son las obtenidas cómo resultado de la simulación. Se buscará mejorarlas en función al objetivo.\n",
    "Tiempo promedio de recorrido de los vehículos."
   ]
  },
  {
   "attachments": {},
   "cell_type": "markdown",
   "metadata": {},
   "source": [
    "### Variables de Estado"
   ]
  },
  {
   "attachments": {},
   "cell_type": "markdown",
   "metadata": {},
   "source": [
    "Las variables de estado son aquellas qué contienen la información necesaria para describir la situación actual de los recursos.\n",
    "- Tasa de Ocupación en las principales zonas de aglomeración.\n",
    "- Tasa de ocupación ocasionada por accidentes, vehículos detenidos, obras en la ruta, policías parando, etc.\n",
    "- Tasa de ocupación ocasionada por mal tiempo.\n",
    "- Tasa de ocupación del peaje o semáforos  (si es que se agregan)."
   ]
  },
  {
   "attachments": {},
   "cell_type": "markdown",
   "metadata": {},
   "source": [
    "### Recursos"
   ]
  },
  {
   "attachments": {},
   "cell_type": "markdown",
   "metadata": {},
   "source": [
    "- Los recursos utilizados en el modelo son:\n",
    "- Las cámaras\n",
    "- Los peajes \n",
    "- Los carteles de velocidad / Avisos. "
   ]
  },
  {
   "cell_type": "markdown",
   "metadata": {},
   "source": [
    "### Distribuciones"
   ]
  },
  {
   "cell_type": "markdown",
   "metadata": {},
   "source": [
    "#### Distribución de arribos de vehiculos"
   ]
  },
  {
   "cell_type": "markdown",
   "metadata": {},
   "source": [
    "Optado por la utilización de una *distribución exponencial negativa* como modelo para representar los arribos de vehículos, y esta elección se fundamenta en diversas consideraciones clave.\n",
    "\n",
    "La distribución exponencial negativa es una selección frecuentemente empleada en la modelación de procesos de llegada aleatoria. En el contexto de rutas de vehículos, esta distribución se ajusta adecuadamente cuando se asume que los arribos de vehículos son eventos independientes y se producen a una tasa constante a lo largo del tiempo. En otras palabras, la probabilidad de que un vehículo llegue en un periodo determinado es constante y no depende del momento en que llegaron los vehículos previos.\n",
    "\n",
    "Sin embargo, es fundamental destacar que emplearemos parámetros diferentes para la distribución, dependiendo de la franja horaria en la que nos encontremos, ya sea durante las horas pico o en otros momentos del día.\n",
    "\n",
    "La distribución que elegiremos para modelar los arribos será la siguiente:\n",
    "$$f(x | \\lambda) = e^{(-\\lambda x)}$$\n",
    "\n",
    "$$\n",
    "\\lambda =\n",
    "\\begin{cases}\n",
    "\\frac{1}{\\mu_1} = \\frac{1}{15 \\text{s}} \\, & \\text{si es hora pico} \\\\\n",
    "\\frac{1}{\\mu_2} = \\frac{1}{45 \\text{s}}, & \\text{si no es hora pico}\n",
    "\\end{cases}\n",
    "$$"
   ]
  },
  {
   "cell_type": "markdown",
   "metadata": {},
   "source": [
    "#### Distribución de velocidad"
   ]
  },
  {
   "cell_type": "markdown",
   "metadata": {},
   "source": [
    "La distribución triangular es una elección adecuada para simular la velocidad de los autos en una ruta con un mínimo de 30 km/h, una moda de 70 km/h y un máximo de 100 km/h por lo siguiente:\n",
    "\n",
    "Es una distribución continua que permite modelar situaciones en las que existe un valor mínimo, un valor máximo y un valor modal. En el contexto de la velocidad de los autos en una carretera, es razonable suponer que la mayoría de los autos se moverán a una velocidad cercana a la moda (70 km/h) y que habrá algunos que irán más rápido o más lento. Esto se ajusta bien a la forma de la distribución triangular.\n",
    "\n",
    "$$\n",
    "f(x) = \\begin{cases}\n",
    "0 & \\text{si } x < 30 \\\\\n",
    "\\frac{2(x-30)}{(70-30)(100-30)} & \\text{si } 30 \\leq x < 70 \\\\\n",
    "\\frac{2(70-x)}{(70-30)(70-100)} & \\text{si } 100 \\leq x \\leq 70 \\\\\n",
    "0 & \\text{si } x > 100\n",
    "\\end{cases}\n",
    "$$"
   ]
  },
  {
   "cell_type": "markdown",
   "metadata": {},
   "source": [
    "#### Distribución de variación de velocidad"
   ]
  },
  {
   "cell_type": "markdown",
   "metadata": {},
   "source": [
    "En nuestra simulación de la Gral. Paz, cada agente se comporta de manera única y puede variar en su velocidad debido a diferentes factores, como la relación con otros agentes y las condiciones del entorno. Para modelar esta variación de velocidad, inicialmente utilizamos la distribución triangular, que nos proporciona una velocidad modal estimada para cada agente.\n",
    "\n",
    "Sin embargo, sabemos que los agentes no mantendrán una velocidad constante en la carretera, ya que pueden optar por no respetar las leyes de velocidad, frenar de manera abrupta o ajustar su velocidad de acuerdo con la situación. Por lo tanto, para capturar esta variabilidad en la velocidad de manera más realista, decidimos emplear la distribución normal.\n",
    "\n",
    "La distribución normal se seleccionó como una opción apropiada para modelar la variación de velocidad de los agentes debido a sus ventajas. Esta distribución es ampliamente reconocida por su capacidad para representar la variabilidad en datos del mundo real. Además, su simetría y versatilidad permiten modelar la idea de que algunos agentes pueden conducir a velocidades más altas o más bajas que la velocidad modal, mientras que la mayoría se mantendrá cerca de esta velocidad central.\n",
    "\n",
    "La distribución normal también se ajusta fácilmente mediante la variación de la varianza, lo que nos permite controlar el grado de variación en las velocidades de los agentes de acuerdo con las necesidades de nuestra simulación.\n",
    "\n",
    "$$\n",
    "f(x) = \\frac{1}{\\sigma \\sqrt{2\\pi}} e^{-\\frac{(x-\\mu)^2}{2\\sigma^2}}\n",
    "$$\n",
    "\n",
    "$$\n",
    "\\begin{align*}\n",
    "\\mu & \\text{ es la velocidad del agente obtenida a partir de la distribución triangular}, \\\\\n",
    "\\sigma & = 5 \\text{ km/h} \\text{ (varianza)}.\n",
    "\\end{align*}\n",
    "$$\n"
   ]
  },
  {
   "cell_type": "markdown",
   "metadata": {},
   "source": [
    "#### Distribución de frenado"
   ]
  },
  {
   "cell_type": "markdown",
   "metadata": {},
   "source": [
    "Elegimos la *distribución exponencial* como modelo para la fuerza de frenado de los vehículos en función de su proximidad al vehículo de adelante debido a varias razones fundamentales:\n",
    "\n",
    "1. **Falta de Memoria a Largo Plazo:** Esta propiedad implica que la probabilidad de que un vehículo frene con fuerza en un momento dado no depende de cuánto tiempo haya transcurrido desde el último frenado. En otras palabras, cada vehículo toma decisiones de frenado independientes en función de su proximidad actual al vehículo de adelante. Esta falta de dependencia temporal es esencial para capturar situaciones realistas en el tráfico, donde los eventos de frenado ocurren de manera estocástica y no están vinculados a eventos previos.\n",
    "\n",
    "2. **Ajuste de la \"Agresividad\" del Frenado:** La distribución exponencial nos brinda la flexibilidad de ajustar el grado de \"agresividad\" en el frenado de los vehículos a través del parámetro de tasa (λ). Al variar el valor de λ, podemos modelar diferentes comportamientos de frenado. Un valor más alto de λ indica que los vehículos son menos propensos a frenar con fuerza cuando están cerca del vehículo de adelante, lo que podría representar situaciones de tráfico más fluidas. Por otro lado, un valor más bajo de λ indica una mayor probabilidad de frenado en distancias cercanas, lo que podría reflejar situaciones de tráfico más congestionadas o conductores más cautelosos.\n",
    "\n",
    "3. **Modelización de Eventos Independientes:** La distribución exponencial es ampliamente utilizada para modelar eventos aleatorios que ocurren de manera independiente a lo largo del tiempo. En el contexto del tráfico, asumimos que los frenados de los vehículos son eventos estocásticos e independientes, ya que las decisiones de frenado de un vehículo no están influenciadas por los eventos de frenado de otros vehículos en el pasado. Esta suposición es coherente con la variabilidad inherente a las interacciones de tráfico en situaciones reales.\n",
    "\n",
    "La formula que utilizaremos será la siguiente:\n",
    "$$f(x | \\lambda) = 1 - e^{(-\\lambda x)}$$\n",
    "\n",
    "$$\n",
    "\\lambda =\n",
    "\\begin{cases}\n",
    "\\frac{1}{\\mu_1} = \\frac{1}{1s}, & \\text{ si } \\text{dist\\_to\\_front\\_agent()} ≤ 10 \\text{m} \\\\\n",
    "\\frac{1}{\\mu_2} = \\frac{1}{3s}, & \\text{ si } \\text{dist\\_to\\_front\\_agent()} > 10 \\text{m}\n",
    "\\end{cases}\n",
    "$$\n",
    "\n"
   ]
  },
  {
   "cell_type": "markdown",
   "metadata": {},
   "source": [
    "#### Distribución del tiempo de reacción del agente"
   ]
  },
  {
   "cell_type": "markdown",
   "metadata": {},
   "source": [
    "Elegimos la *distribución normal* para simular el tiempo de reacción debido a su capacidad para representar la variabilidad realista en los tiempos de reacción de las personas al frenar. La distribución normal se ajusta bien a situaciones en las que la mayoría de los individuos tienen tiempos de reacción cercanos a un valor promedio (la media), con menos personas que experimentan tiempos de reacción significativamente más cortos o más largos. Esto refleja con precisión cómo la mayoría de las personas conducen con tiempos de reacción similares, pero aún existe variabilidad natural. \n",
    "\n",
    "Luego de una busqueda de estudios de investigación acerca del comportamiento de los conductores en la autopista Gral. Paz y otras autopistas de Buenos Aires, encontramos que la media de el tiempo de reacción se aproxima a 1s con un desvio de 0.2s.\n",
    "\n",
    "$$\n",
    "f(x) = \\frac{1}{\\sigma \\sqrt{2\\pi}} e^{-\\frac{(x-\\mu)^2}{2\\sigma^2}}\n",
    "$$\n",
    "\n",
    "$$\n",
    "\\begin{align*}\n",
    "\\mu & = 1s \\\\\n",
    "\\sigma & = 0.2s\n",
    "\\end{align*}\n",
    "$$"
   ]
  },
  {
   "attachments": {},
   "cell_type": "markdown",
   "metadata": {},
   "source": [
    "## Simulación"
   ]
  },
  {
   "cell_type": "code",
   "execution_count": 12,
   "metadata": {},
   "outputs": [],
   "source": [
    "import random \n",
    "from typing import Optional\n",
    "import matplotlib.animation as animation\n",
    "import matplotlib.pyplot as plt\n",
    "from scipy import stats\n",
    "import numpy as np"
   ]
  },
  {
   "cell_type": "code",
   "execution_count": 13,
   "metadata": {},
   "outputs": [],
   "source": [
    "exponencialnegativa = stats.expon()"
   ]
  },
  {
   "cell_type": "code",
   "execution_count": 14,
   "metadata": {},
   "outputs": [],
   "source": [
    "class Agent:\n",
    "\n",
    "    def __init__(\n",
    "        self, \n",
    "        x:float,                                                      #posición                                                                                                  \n",
    "        vmax:float,                                                   #velocidad máxima\n",
    "        l:float,                                                      #longitud del vehiculo\n",
    "        a:float,                                                      #aceleración\n",
    "        rt:float,                                                     #tiempo de reacción\n",
    "        fa: Optional[\"Agent\"] = None,                                 #agente de adelante\n",
    "        ba: Optional[\"Agent\"] = None,                                 #agente de atras\n",
    "        at:int = 0,                                                   #tiempo de entrada a la autopista\n",
    "    ):\n",
    "    \n",
    "        self.position = x\n",
    "        self.max_velocity = vmax\n",
    "        self.length = l\n",
    "        self.aceleration = a\n",
    "        self.reaction_time = rt\n",
    "        self.front_agent = fa\n",
    "        self.back_agent = ba\n",
    "        self.arrival_time = at\n",
    "\n",
    "        '''\n",
    "        velocidad de agente es generada a partir de la distribución triangular con los siguientes parametros:\n",
    "        - 30,000 m/s: velocidad minima\n",
    "        - 100,000 m/s: velocidad maxima\n",
    "        - 70,000 m/s: moda\n",
    "        '''\n",
    "        self.velocity = random.triangular(30000, 100000, 70000)\n",
    "        self.time = 0\n",
    "    \n",
    "    def __str__(self):\n",
    "        return f\"Agent(t={self.time}, x={self.position}, v={self.velocity}, vmax={self.max_velocity}, l={self.length}, a={self.aceleration}, rt={self.reaction_time}, fa={self.front_agent}, ba={self.back_agent}, at={self.arrival_time})\"\n",
    "    \n",
    "\n",
    "    def dist_to_front_agent(self):\n",
    "        if self.front_agent == None:\n",
    "            return None\n",
    "\n",
    "        else: #hay otro agente adelante\n",
    "            return abs(self.position - self.front_agent.position - self.length)\n",
    "\n",
    "\n",
    "    def dist_to_back_agent(self):\n",
    "        if self.back_agent == None:\n",
    "            return None\n",
    "\n",
    "        else: #hay otro agent atras\n",
    "            return abs(self.back_agent.position - self.position - self.back_agent.length)\n",
    "\n",
    "    def speed_variation(self):\n",
    "\n",
    "        if self.dist_to_front_agent() >= 20 or self.dist_to_front_agent() == None:\n",
    "            self.velocity = random.normalvariate(self.velocity, 50000)\n",
    "\n",
    "\n",
    "    def reduce_speed(self):\n",
    "        # si se encuentra \"cerca\" del agente de adelante, reducirá su velocidad mediante una distribución exponencial con media 1.\n",
    "        if self.dist_to_front_agent() < 10:\n",
    "            self.velocity -= (self.velocity - self.front_agent.velocity) / (1 - stats.expon().rvs(1)) # La velocidad que tenes que reducir por segundo.\n",
    "\n",
    "         # si se encuentra \"lejos\" del agente de adelante, reducirá su velocidad mediante una distribución exponencial con media 3.\n",
    "        elif self.dist_to_front_agent() >= 10 and self.dist_to_front_agent() <= 20:\n",
    "            self.velocity -= (self.velocity - self.front_agent.velocity) / (1 - stats.expon().rvs(3))\n",
    "\n",
    "        # si no tine agente adelante seguira a la misma velocidad que tenia.\n",
    "        else:\n",
    "            self.velocity = self.velocity\n",
    "\n",
    "\n",
    "    def move(self):\n",
    "        self.position = self.position + self.velocity * 1 \n",
    "    \n",
    "    def update_position(self):\n",
    "        return self.position\n",
    "\n",
    "    def update(self):\n",
    "        self.move()\n",
    "        self.reduce_speed()\n",
    "        self.speed_variation()\n",
    "        self.update_position()\n",
    "        self.time += 1\n"
   ]
  },
  {
   "cell_type": "code",
   "execution_count": 15,
   "metadata": {},
   "outputs": [
    {
     "ename": "SyntaxError",
     "evalue": "invalid syntax (2266514743.py, line 55)",
     "output_type": "error",
     "traceback": [
      "\u001b[0;36m  Input \u001b[0;32mIn [15]\u001b[0;36m\u001b[0m\n\u001b[0;31m    if agent:Agent.position > self.km:\u001b[0m\n\u001b[0m                                     ^\u001b[0m\n\u001b[0;31mSyntaxError\u001b[0m\u001b[0;31m:\u001b[0m invalid syntax\n"
     ]
    }
   ],
   "source": [
    "class Road:\n",
    "    \n",
    "    def __init__(self, km:int, c:bool):\n",
    "        self.km = km\n",
    "        self.agents = []\n",
    "        self.time = 0\n",
    "        self.total_time = 10\n",
    "        self.congestion = c\n",
    "        self.time_to_next_arrival = 0\n",
    "\n",
    "    def __repr__(self):\n",
    "        return f\"Road(km={self.km}, agents={self.agents}, t={self.time})\"\n",
    "    \n",
    "    def add_agent(self, rate, agent:Agent):\n",
    "        \n",
    "        # Si no hay agentes en la Gral.Paz, agregamos el primer agente\n",
    "        if len(self.agents) == 0:\n",
    "            self.agents.append(agent)\n",
    "            agent.front_agent = None\n",
    "            agent.back_agent = None\n",
    "            agent.arrival_time = self.time\n",
    "            self.time_to_next_arrival = stats.expon.rvs(scale=1/rate)\n",
    "\n",
    "            \n",
    "        \n",
    "        # Si hay agentes en Gral.Paz, agregaremos un nuevo agente con distribución exponencial negativa\n",
    "        else:\n",
    "            if self.time - self.agents[-1].arrival_time > self.time_to_next_arrival[0]:\n",
    "                self.agents.append(agent)\n",
    "                agent.arrival_time = self.time\n",
    "                self.time_to_next_arrival = stats.expon.rvs(scale=1/rate)\n",
    "\n",
    "\n",
    "                #asignamos su front y su back car teniendo en cuenta la lista de self.agents\n",
    "                if len(self.agents) >= 2:\n",
    "                    agent.front_agent = self.agents[-2]\n",
    "                    self.agents[-2].back_agent = agent\n",
    "        \n",
    "\n",
    "    def time_lapse(self, agent:Agent):\n",
    "        while self.time < self.total_time:\n",
    "            if self.congestion == True:\n",
    "                # Agrego autos con distribución exponencial negativa con media = 15\n",
    "                self.add_agent(15, agent)\n",
    "            else:\n",
    "                #agrego autos con distribución exponencial negativa con media = 45\n",
    "                self.add_agent(45, agent)\n",
    "        \n",
    "    \n",
    "    def update(self):\n",
    "        for agent in self.agents:\n",
    "            agent:Agent.update()\n",
    "\n",
    "            #si el agente llega al final de la carretera lo eliminamos\n",
    "            if agent:Agent.position > self.km:\n",
    "                self.agents.remove(agent)\n",
    "\n",
    "            #asignamos el front y back car de los agentes extremos de la lista\n",
    "            if len(self.agents) > 0:\n",
    "                self.agents[0].front_agent = None\n",
    "\n",
    "            self.time += 1\n",
    "        # self.time_lapse()\n",
    "        \n",
    "\n",
    "    def plot(self):\n",
    "        fig, ax = plt.subplots()\n",
    "        ax.plot([agent.x for agent in self.agents], [0 for agent in self.agents], \"o\")\n",
    "        ax.set_xlim(0, self.km)\n",
    "        ax.set_ylim(-1, 1)\n",
    "        ax.set_yticks([])\n",
    "        ax.set_xlabel(\"Position\")\n",
    "        ax.set_title(\"Highway\")\n",
    "        ax.legend()\n",
    "        \n",
    "        plt.show()\n",
    "\n",
    "    \n"
   ]
  },
  {
   "cell_type": "code",
   "execution_count": null,
   "metadata": {},
   "outputs": [
    {
     "ename": "UnboundLocalError",
     "evalue": "local variable 'agent' referenced before assignment",
     "output_type": "error",
     "traceback": [
      "\u001b[0;31m---------------------------------------------------------------------------\u001b[0m",
      "\u001b[0;31mUnboundLocalError\u001b[0m                         Traceback (most recent call last)",
      "\u001b[1;32m/Users/achula/achula/Aplicaciones computacionales /Agent-Based-Model---Gral-Paz/simulation.ipynb Cell 35\u001b[0m in \u001b[0;36m<cell line: 3>\u001b[0;34m()\u001b[0m\n\u001b[1;32m      <a href='vscode-notebook-cell:/Users/achula/achula/Aplicaciones%20computacionales%20/Agent-Based-Model---Gral-Paz/simulation.ipynb#X46sZmlsZQ%3D%3D?line=0'>1</a>\u001b[0m agp \u001b[39m=\u001b[39m Road(km \u001b[39m=\u001b[39m \u001b[39m1000\u001b[39m, c \u001b[39m=\u001b[39m \u001b[39mFalse\u001b[39;00m)\n\u001b[0;32m----> <a href='vscode-notebook-cell:/Users/achula/achula/Aplicaciones%20computacionales%20/Agent-Based-Model---Gral-Paz/simulation.ipynb#X46sZmlsZQ%3D%3D?line=2'>3</a>\u001b[0m agp\u001b[39m.\u001b[39;49mupdate()  \n\u001b[1;32m      <a href='vscode-notebook-cell:/Users/achula/achula/Aplicaciones%20computacionales%20/Agent-Based-Model---Gral-Paz/simulation.ipynb#X46sZmlsZQ%3D%3D?line=4'>5</a>\u001b[0m agp\u001b[39m.\u001b[39mplot()\n",
      "\u001b[1;32m/Users/achula/achula/Aplicaciones computacionales /Agent-Based-Model---Gral-Paz/simulation.ipynb Cell 35\u001b[0m in \u001b[0;36mRoad.update\u001b[0;34m(self)\u001b[0m\n\u001b[1;32m     <a href='vscode-notebook-cell:/Users/achula/achula/Aplicaciones%20computacionales%20/Agent-Based-Model---Gral-Paz/simulation.ipynb#X46sZmlsZQ%3D%3D?line=58'>59</a>\u001b[0m         \u001b[39mself\u001b[39m\u001b[39m.\u001b[39magents[\u001b[39m0\u001b[39m]\u001b[39m.\u001b[39mfront_agent \u001b[39m=\u001b[39m \u001b[39mNone\u001b[39;00m\n\u001b[1;32m     <a href='vscode-notebook-cell:/Users/achula/achula/Aplicaciones%20computacionales%20/Agent-Based-Model---Gral-Paz/simulation.ipynb#X46sZmlsZQ%3D%3D?line=60'>61</a>\u001b[0m \u001b[39mself\u001b[39m\u001b[39m.\u001b[39mtime \u001b[39m+\u001b[39m\u001b[39m=\u001b[39m \u001b[39m1\u001b[39m\n\u001b[0;32m---> <a href='vscode-notebook-cell:/Users/achula/achula/Aplicaciones%20computacionales%20/Agent-Based-Model---Gral-Paz/simulation.ipynb#X46sZmlsZQ%3D%3D?line=61'>62</a>\u001b[0m \u001b[39mself\u001b[39m\u001b[39m.\u001b[39mtime_lapse(agent)\n",
      "\u001b[0;31mUnboundLocalError\u001b[0m: local variable 'agent' referenced before assignment"
     ]
    }
   ],
   "source": [
    "gp = Road(km = 1000, c = False)\n",
    "\n",
    "gp.update(Agent(x=0, vmax=120, l=5, a=2, rt=1, fa=None, ba=None, at=0))  \n",
    "\n",
    "\n",
    "gp.plot()"
   ]
  },
  {
   "cell_type": "code",
   "execution_count": null,
   "metadata": {},
   "outputs": [
    {
     "ename": "TypeError",
     "evalue": "'<' not supported between instances of 'NoneType' and 'int'",
     "output_type": "error",
     "traceback": [
      "\u001b[0;31m---------------------------------------------------------------------------\u001b[0m",
      "\u001b[0;31mTypeError\u001b[0m                                 Traceback (most recent call last)",
      "\u001b[1;32m/Users/achula/achula/Aplicaciones computacionales /Agent-Based-Model---Gral-Paz/simulation.ipynb Cell 36\u001b[0m in \u001b[0;36m<cell line: 1>\u001b[0;34m()\u001b[0m\n\u001b[1;32m      <a href='vscode-notebook-cell:/Users/achula/achula/Aplicaciones%20computacionales%20/Agent-Based-Model---Gral-Paz/simulation.ipynb#X35sZmlsZQ%3D%3D?line=0'>1</a>\u001b[0m \u001b[39mfor\u001b[39;00m i \u001b[39min\u001b[39;00m \u001b[39mrange\u001b[39m(\u001b[39m2\u001b[39m):\n\u001b[0;32m----> <a href='vscode-notebook-cell:/Users/achula/achula/Aplicaciones%20computacionales%20/Agent-Based-Model---Gral-Paz/simulation.ipynb#X35sZmlsZQ%3D%3D?line=1'>2</a>\u001b[0m     agp\u001b[39m.\u001b[39;49mupdate()\n\u001b[1;32m      <a href='vscode-notebook-cell:/Users/achula/achula/Aplicaciones%20computacionales%20/Agent-Based-Model---Gral-Paz/simulation.ipynb#X35sZmlsZQ%3D%3D?line=2'>3</a>\u001b[0m agp\u001b[39m.\u001b[39mplot()\n",
      "\u001b[1;32m/Users/achula/achula/Aplicaciones computacionales /Agent-Based-Model---Gral-Paz/simulation.ipynb Cell 36\u001b[0m in \u001b[0;36mRoad.update\u001b[0;34m(self)\u001b[0m\n\u001b[1;32m     <a href='vscode-notebook-cell:/Users/achula/achula/Aplicaciones%20computacionales%20/Agent-Based-Model---Gral-Paz/simulation.ipynb#X35sZmlsZQ%3D%3D?line=43'>44</a>\u001b[0m \u001b[39mdef\u001b[39;00m \u001b[39mupdate\u001b[39m(\u001b[39mself\u001b[39m):\n\u001b[1;32m     <a href='vscode-notebook-cell:/Users/achula/achula/Aplicaciones%20computacionales%20/Agent-Based-Model---Gral-Paz/simulation.ipynb#X35sZmlsZQ%3D%3D?line=44'>45</a>\u001b[0m     \u001b[39mfor\u001b[39;00m agent \u001b[39min\u001b[39;00m \u001b[39mself\u001b[39m\u001b[39m.\u001b[39magents:\n\u001b[0;32m---> <a href='vscode-notebook-cell:/Users/achula/achula/Aplicaciones%20computacionales%20/Agent-Based-Model---Gral-Paz/simulation.ipynb#X35sZmlsZQ%3D%3D?line=45'>46</a>\u001b[0m         agent\u001b[39m.\u001b[39;49mupdate()\n\u001b[1;32m     <a href='vscode-notebook-cell:/Users/achula/achula/Aplicaciones%20computacionales%20/Agent-Based-Model---Gral-Paz/simulation.ipynb#X35sZmlsZQ%3D%3D?line=47'>48</a>\u001b[0m         \u001b[39m#si el agente llega al final de la carretera lo eliminamos\u001b[39;00m\n\u001b[1;32m     <a href='vscode-notebook-cell:/Users/achula/achula/Aplicaciones%20computacionales%20/Agent-Based-Model---Gral-Paz/simulation.ipynb#X35sZmlsZQ%3D%3D?line=48'>49</a>\u001b[0m         \u001b[39mif\u001b[39;00m agent\u001b[39m.\u001b[39mposicion() \u001b[39m>\u001b[39m \u001b[39mself\u001b[39m\u001b[39m.\u001b[39mkm:\n",
      "\u001b[1;32m/Users/achula/achula/Aplicaciones computacionales /Agent-Based-Model---Gral-Paz/simulation.ipynb Cell 36\u001b[0m in \u001b[0;36mAgent.update\u001b[0;34m(self)\u001b[0m\n\u001b[1;32m     <a href='vscode-notebook-cell:/Users/achula/achula/Aplicaciones%20computacionales%20/Agent-Based-Model---Gral-Paz/simulation.ipynb#X35sZmlsZQ%3D%3D?line=73'>74</a>\u001b[0m \u001b[39mdef\u001b[39;00m \u001b[39mupdate\u001b[39m(\u001b[39mself\u001b[39m):\n\u001b[1;32m     <a href='vscode-notebook-cell:/Users/achula/achula/Aplicaciones%20computacionales%20/Agent-Based-Model---Gral-Paz/simulation.ipynb#X35sZmlsZQ%3D%3D?line=74'>75</a>\u001b[0m     \u001b[39mself\u001b[39m\u001b[39m.\u001b[39mmove()\n\u001b[0;32m---> <a href='vscode-notebook-cell:/Users/achula/achula/Aplicaciones%20computacionales%20/Agent-Based-Model---Gral-Paz/simulation.ipynb#X35sZmlsZQ%3D%3D?line=75'>76</a>\u001b[0m     \u001b[39mself\u001b[39;49m\u001b[39m.\u001b[39;49mreduce_speed()\n\u001b[1;32m     <a href='vscode-notebook-cell:/Users/achula/achula/Aplicaciones%20computacionales%20/Agent-Based-Model---Gral-Paz/simulation.ipynb#X35sZmlsZQ%3D%3D?line=76'>77</a>\u001b[0m     \u001b[39mself\u001b[39m\u001b[39m.\u001b[39mspeed_variation()\n\u001b[1;32m     <a href='vscode-notebook-cell:/Users/achula/achula/Aplicaciones%20computacionales%20/Agent-Based-Model---Gral-Paz/simulation.ipynb#X35sZmlsZQ%3D%3D?line=77'>78</a>\u001b[0m     \u001b[39mself\u001b[39m\u001b[39m.\u001b[39mupdate_position()\n",
      "\u001b[1;32m/Users/achula/achula/Aplicaciones computacionales /Agent-Based-Model---Gral-Paz/simulation.ipynb Cell 36\u001b[0m in \u001b[0;36mAgent.reduce_speed\u001b[0;34m(self)\u001b[0m\n\u001b[1;32m     <a href='vscode-notebook-cell:/Users/achula/achula/Aplicaciones%20computacionales%20/Agent-Based-Model---Gral-Paz/simulation.ipynb#X35sZmlsZQ%3D%3D?line=57'>58</a>\u001b[0m \u001b[39mdef\u001b[39;00m \u001b[39mreduce_speed\u001b[39m(\u001b[39mself\u001b[39m):\n\u001b[1;32m     <a href='vscode-notebook-cell:/Users/achula/achula/Aplicaciones%20computacionales%20/Agent-Based-Model---Gral-Paz/simulation.ipynb#X35sZmlsZQ%3D%3D?line=58'>59</a>\u001b[0m     \u001b[39m# si se encuentra \"cerca\" del agente de adelante, reducirá su velocidad mediante una distribución exponencial con media 1.\u001b[39;00m\n\u001b[0;32m---> <a href='vscode-notebook-cell:/Users/achula/achula/Aplicaciones%20computacionales%20/Agent-Based-Model---Gral-Paz/simulation.ipynb#X35sZmlsZQ%3D%3D?line=59'>60</a>\u001b[0m     \u001b[39mif\u001b[39;00m \u001b[39mself\u001b[39;49m\u001b[39m.\u001b[39;49mdist_to_front_agent() \u001b[39m<\u001b[39;49m \u001b[39m10\u001b[39;49m:\n\u001b[1;32m     <a href='vscode-notebook-cell:/Users/achula/achula/Aplicaciones%20computacionales%20/Agent-Based-Model---Gral-Paz/simulation.ipynb#X35sZmlsZQ%3D%3D?line=60'>61</a>\u001b[0m         \u001b[39mself\u001b[39m\u001b[39m.\u001b[39mvelocity \u001b[39m-\u001b[39m\u001b[39m=\u001b[39m (\u001b[39mself\u001b[39m\u001b[39m.\u001b[39mvelocity \u001b[39m-\u001b[39m \u001b[39mself\u001b[39m\u001b[39m.\u001b[39mfront_agent\u001b[39m.\u001b[39mvelocity) \u001b[39m/\u001b[39m (\u001b[39m1\u001b[39m \u001b[39m-\u001b[39m exponencialnegativa\u001b[39m.\u001b[39mrvs(\u001b[39m1\u001b[39m)) \u001b[39m# La velocidad que tenes que reducir por segundo.\u001b[39;00m\n\u001b[1;32m     <a href='vscode-notebook-cell:/Users/achula/achula/Aplicaciones%20computacionales%20/Agent-Based-Model---Gral-Paz/simulation.ipynb#X35sZmlsZQ%3D%3D?line=62'>63</a>\u001b[0m      \u001b[39m# si se encuentra \"lejos\" del agente de adelante, reducirá su velocidad mediante una distribución exponencial con media 3.\u001b[39;00m\n",
      "\u001b[0;31mTypeError\u001b[0m: '<' not supported between instances of 'NoneType' and 'int'"
     ]
    }
   ],
   "source": [
    "for i in range(2):\n",
    "    agp.update()\n",
    "agp.plot()\n"
   ]
  }
 ],
 "metadata": {
  "kernelspec": {
   "display_name": "Python 3.9.13 ('base')",
   "language": "python",
   "name": "python3"
  },
  "language_info": {
   "codemirror_mode": {
    "name": "ipython",
    "version": 3
   },
   "file_extension": ".py",
   "mimetype": "text/x-python",
   "name": "python",
   "nbconvert_exporter": "python",
   "pygments_lexer": "ipython3",
   "version": "3.10.5"
  },
  "orig_nbformat": 4,
  "vscode": {
   "interpreter": {
    "hash": "8b227c73194924edd0a0ade3c617328ad4ed82e492e1afcb6485c0de2a34143f"
   }
  }
 },
 "nbformat": 4,
 "nbformat_minor": 2
}
