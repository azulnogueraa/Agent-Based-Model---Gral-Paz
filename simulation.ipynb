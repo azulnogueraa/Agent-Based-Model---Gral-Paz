{
 "cells": [
  {
   "attachments": {},
   "cell_type": "markdown",
   "metadata": {},
   "source": [
    "# Agent-Based Model - General Paz"
   ]
  },
  {
   "attachments": {},
   "cell_type": "markdown",
   "metadata": {},
   "source": [
    "## Descripción del modelo"
   ]
  },
  {
   "attachments": {},
   "cell_type": "markdown",
   "metadata": {},
   "source": [
    "### Objetivo"
   ]
  },
  {
   "attachments": {},
   "cell_type": "markdown",
   "metadata": {},
   "source": [
    "Nuestro objetivo es implementar una simulación realista de la Avenida General Paz. En los tramos de Liniers a Lugones. "
   ]
  },
  {
   "attachments": {},
   "cell_type": "markdown",
   "metadata": {},
   "source": [
    "### Entidades / Agentes"
   ]
  },
  {
   "attachments": {},
   "cell_type": "markdown",
   "metadata": {},
   "source": [
    "Las entidades del modelo, qué serán los qué circulen por él, en nuestro modelo corresponden a los automóviles con sus respectivos conductores. Los agentes son autónomos, es decir, están dotados con comportamientos que les permiten tomar decisiones independientes."
   ]
  },
  {
   "attachments": {},
   "cell_type": "markdown",
   "metadata": {},
   "source": [
    "### Atributos"
   ]
  },
  {
   "attachments": {},
   "cell_type": "markdown",
   "metadata": {},
   "source": [
    "Las entidades tienen distintos atributos que lo describen como:\n",
    "\n",
    "- Posición **(x)**.\n",
    "- Velocidad **(v)**.\n",
    "- Velocidad máxima del vehículo **(vmax)**.\n",
    "- Longitud del auto. **(l)**.\n",
    "- Aceleración y desaceleración (cuanto tarda el vehículo en promedio en llegar de 0 a 80 y de 80 a 0 km/h) **(a)**.\n",
    "- Tiempo de permanencia en la autopista **(t)**.\n",
    "- Tiempo de reacción de frenado. **(tr)**\n",
    "\n",
    "##### Interacción con otros agentes\n",
    "Cada agente tiene un vehiculo por detras y por delante. Del vehiculo de adelante dependerá si el agente frena o no. Las reducciones de velocidad son las que causarán los *shockwaves*. \n",
    "\n",
    "- Distancia entre vehículo de atras **(bd)**.\n",
    "- Distancia entre vehiculo de adelante **(fd)**. \n",
    "\n",
    "##### Comportamiento\n",
    "- Los agentes reaccionan (mantienen su velocidad, aceleran y desaceleran) dependiendo de el ambiente y su vecindario. \n",
    "- Un agente podrá acelerar/desacelerar si el auto de adelante se lo permite. \n",
    "- Dependiendo de el comportamiento del agente que maneje el vehiculo, el mismo:\n",
    "  -  respetará los limites de velocidad o no.\n",
    "  -   tendrá mas o menos probabilidad de choque.\n"
   ]
  },
  {
   "attachments": {},
   "cell_type": "markdown",
   "metadata": {},
   "source": [
    "### Ambiente"
   ]
  },
  {
   "attachments": {},
   "cell_type": "markdown",
   "metadata": {},
   "source": [
    "El ambiente de nuestro agent-based transportation model será la infraestructura y capacidades de los nodos y enlaces de la red vial. Estas capacidades crean efectos de congestión (velocidades de viaje reducidas) limitando el número de agentes que se desplazan a través de la red de transporte en un momento dado."
   ]
  },
  {
   "attachments": {},
   "cell_type": "markdown",
   "metadata": {},
   "source": [
    "### Variables de Decisión"
   ]
  },
  {
   "attachments": {},
   "cell_type": "markdown",
   "metadata": {},
   "source": [
    "Las variables de decisión son las qué generarán distintas alternativas o escenarios en el modelo. Es decir, estas serán las qué ayudarán a determinar cuál es el layout óptimo para la solución.\n",
    "- Agregar peaje o no\n",
    "- Agregar semáforos y cuantos.\n",
    "- Agregar cámaras de fotomultas y cuantas."
   ]
  },
  {
   "attachments": {},
   "cell_type": "markdown",
   "metadata": {},
   "source": [
    "### Variables de Referencia:  "
   ]
  },
  {
   "attachments": {},
   "cell_type": "markdown",
   "metadata": {},
   "source": [
    "Las variables de referencia son las obtenidas cómo resultado de la simulación. Se buscará mejorarlas en función al objetivo.\n",
    "Tiempo promedio de recorrido de los vehículos."
   ]
  },
  {
   "attachments": {},
   "cell_type": "markdown",
   "metadata": {},
   "source": [
    "### Variables de Estado"
   ]
  },
  {
   "attachments": {},
   "cell_type": "markdown",
   "metadata": {},
   "source": [
    "Las variables de estado son aquellas qué contienen la información necesaria para describir la situación actual de los recursos.\n",
    "- Tasa de Ocupación en las principales zonas de aglomeración.\n",
    "- Tasa de ocupación ocasionada por accidentes, vehículos detenidos, obras en la ruta, policías parando, etc.\n",
    "- Tasa de ocupación ocasionada por mal tiempo.\n",
    "- Tasa de ocupación del peaje o semáforos  (si es que se agregan)."
   ]
  },
  {
   "attachments": {},
   "cell_type": "markdown",
   "metadata": {},
   "source": [
    "### Recursos"
   ]
  },
  {
   "attachments": {},
   "cell_type": "markdown",
   "metadata": {},
   "source": [
    "- Los recursos utilizados en el modelo son:\n",
    "- Las cámaras\n",
    "- Los peajes \n",
    "- Los carteles de velocidad / Avisos. "
   ]
  },
  {
   "cell_type": "markdown",
   "metadata": {},
   "source": [
    "### Distribuciones"
   ]
  },
  {
   "cell_type": "markdown",
   "metadata": {},
   "source": [
    "#### Distribución de arribos de vehiculos"
   ]
  },
  {
   "cell_type": "markdown",
   "metadata": {},
   "source": [
    "Optado por la utilización de una *distribución exponencial negativa* como modelo para representar los arribos de vehículos, y esta elección se fundamenta en diversas consideraciones clave.\n",
    "\n",
    "La distribución exponencial negativa es una selección frecuentemente empleada en la modelación de procesos de llegada aleatoria. En el contexto de rutas de vehículos, esta distribución se ajusta adecuadamente cuando se asume que los arribos de vehículos son eventos independientes y se producen a una tasa constante a lo largo del tiempo. En otras palabras, la probabilidad de que un vehículo llegue en un periodo determinado es constante y no depende del momento en que llegaron los vehículos previos.\n",
    "\n",
    "Sin embargo, es fundamental destacar que emplearemos parámetros diferentes para la distribución, dependiendo de la franja horaria en la que nos encontremos, ya sea durante las horas pico o en otros momentos del día.\n",
    "\n",
    "La distribución que elegiremos para modelar los arribos será la siguiente:\n",
    "$$f(x | \\lambda) = e^{(-\\lambda x)}$$\n",
    "\n",
    "$$\n",
    "\\lambda =\n",
    "\\begin{cases}\n",
    "\\frac{1}{\\mu_1} = \\frac{1}{15 \\text{s}} \\, & \\text{si es hora pico} \\\\\n",
    "\\frac{1}{\\mu_2} = \\frac{1}{45 \\text{s}}, & \\text{si no es hora pico}\n",
    "\\end{cases}\n",
    "$$"
   ]
  },
  {
   "cell_type": "markdown",
   "metadata": {},
   "source": [
    "#### Distribución de velocidad"
   ]
  },
  {
   "cell_type": "markdown",
   "metadata": {},
   "source": [
    "La distribución triangular es una elección adecuada para simular la velocidad de los autos en una ruta con un mínimo de 30 km/h, una moda de 70 km/h y un máximo de 100 km/h por lo siguiente:\n",
    "\n",
    "Es una distribución continua que permite modelar situaciones en las que existe un valor mínimo, un valor máximo y un valor modal. En el contexto de la velocidad de los autos en una carretera, es razonable suponer que la mayoría de los autos se moverán a una velocidad cercana a la moda (70 km/h) y que habrá algunos que irán más rápido o más lento. Esto se ajusta bien a la forma de la distribución triangular.\n",
    "\n",
    "$$\n",
    "f(x) = \\begin{cases}\n",
    "0 & \\text{si } x < 30 \\\\\n",
    "\\frac{2(x-30)}{(70-30)(100-30)} & \\text{si } 30 \\leq x < 70 \\\\\n",
    "\\frac{2(70-x)}{(70-30)(70-100)} & \\text{si } 100 \\leq x \\leq 70 \\\\\n",
    "0 & \\text{si } x > 100\n",
    "\\end{cases}\n",
    "$$"
   ]
  },
  {
   "cell_type": "markdown",
   "metadata": {},
   "source": [
    "#### Distribución de variación de velocidad"
   ]
  },
  {
   "cell_type": "markdown",
   "metadata": {},
   "source": [
    "En nuestra simulación de la Gral. Paz, cada agente se comporta de manera única y puede variar en su velocidad debido a diferentes factores, como la relación con otros agentes y las condiciones del entorno. Para modelar esta variación de velocidad, inicialmente utilizamos la distribución triangular, que nos proporciona una velocidad modal estimada para cada agente.\n",
    "\n",
    "Sin embargo, sabemos que los agentes no mantendrán una velocidad constante en la carretera, ya que pueden optar por no respetar las leyes de velocidad, frenar de manera abrupta o ajustar su velocidad de acuerdo con la situación. Por lo tanto, para capturar esta variabilidad en la velocidad de manera más realista, decidimos emplear la distribución normal.\n",
    "\n",
    "La distribución normal se seleccionó como una opción apropiada para modelar la variación de velocidad de los agentes debido a sus ventajas. Esta distribución es ampliamente reconocida por su capacidad para representar la variabilidad en datos del mundo real. Además, su simetría y versatilidad permiten modelar la idea de que algunos agentes pueden conducir a velocidades más altas o más bajas que la velocidad modal, mientras que la mayoría se mantendrá cerca de esta velocidad central.\n",
    "\n",
    "La distribución normal también se ajusta fácilmente mediante la variación de la varianza, lo que nos permite controlar el grado de variación en las velocidades de los agentes de acuerdo con las necesidades de nuestra simulación.\n",
    "\n",
    "$$\n",
    "f(x) = \\frac{1}{\\sigma \\sqrt{2\\pi}} e^{-\\frac{(x-\\mu)^2}{2\\sigma^2}}\n",
    "$$\n",
    "\n",
    "$$\n",
    "\\begin{align*}\n",
    "\\mu & \\text{ es la velocidad del agente obtenida a partir de la distribución triangular}, \\\\\n",
    "\\sigma & = 5 \\text{ km/h} \\text{ (varianza)}.\n",
    "\\end{align*}\n",
    "$$\n"
   ]
  },
  {
   "cell_type": "markdown",
   "metadata": {},
   "source": [
    "#### Distribución de frenado"
   ]
  },
  {
   "cell_type": "markdown",
   "metadata": {},
   "source": [
    "Elegimos la *distribución exponencial* como modelo para la fuerza de frenado de los vehículos en función de su proximidad al vehículo de adelante debido a varias razones fundamentales:\n",
    "\n",
    "1. **Falta de Memoria a Largo Plazo:** Esta propiedad implica que la probabilidad de que un vehículo frene con fuerza en un momento dado no depende de cuánto tiempo haya transcurrido desde el último frenado. En otras palabras, cada vehículo toma decisiones de frenado independientes en función de su proximidad actual al vehículo de adelante. Esta falta de dependencia temporal es esencial para capturar situaciones realistas en el tráfico, donde los eventos de frenado ocurren de manera estocástica y no están vinculados a eventos previos.\n",
    "\n",
    "2. **Ajuste de la \"Agresividad\" del Frenado:** La distribución exponencial nos brinda la flexibilidad de ajustar el grado de \"agresividad\" en el frenado de los vehículos a través del parámetro de tasa (λ). Al variar el valor de λ, podemos modelar diferentes comportamientos de frenado. Un valor más alto de λ indica que los vehículos son menos propensos a frenar con fuerza cuando están cerca del vehículo de adelante, lo que podría representar situaciones de tráfico más fluidas. Por otro lado, un valor más bajo de λ indica una mayor probabilidad de frenado en distancias cercanas, lo que podría reflejar situaciones de tráfico más congestionadas o conductores más cautelosos.\n",
    "\n",
    "3. **Modelización de Eventos Independientes:** La distribución exponencial es ampliamente utilizada para modelar eventos aleatorios que ocurren de manera independiente a lo largo del tiempo. En el contexto del tráfico, asumimos que los frenados de los vehículos son eventos estocásticos e independientes, ya que las decisiones de frenado de un vehículo no están influenciadas por los eventos de frenado de otros vehículos en el pasado. Esta suposición es coherente con la variabilidad inherente a las interacciones de tráfico en situaciones reales.\n",
    "\n",
    "La formula que utilizaremos será la siguiente:\n",
    "$$f(x | \\lambda) = 1 - e^{(-\\lambda x)}$$\n",
    "\n",
    "$$\n",
    "\\lambda =\n",
    "\\begin{cases}\n",
    "\\frac{1}{\\mu_1} = \\frac{1}{1s}, & \\text{ si } \\text{dist\\_to\\_front\\_agent()} ≤ 10 \\text{m} \\\\\n",
    "\\frac{1}{\\mu_2} = \\frac{1}{3s}, & \\text{ si } \\text{dist\\_to\\_front\\_agent()} > 10 \\text{m}\n",
    "\\end{cases}\n",
    "$$\n",
    "\n"
   ]
  },
  {
   "cell_type": "markdown",
   "metadata": {},
   "source": [
    "#### Distribución del tiempo de reacción del agente"
   ]
  },
  {
   "cell_type": "markdown",
   "metadata": {},
   "source": [
    "Elegimos la *distribución normal* para simular el tiempo de reacción debido a su capacidad para representar la variabilidad realista en los tiempos de reacción de las personas al frenar. La distribución normal se ajusta bien a situaciones en las que la mayoría de los individuos tienen tiempos de reacción cercanos a un valor promedio (la media), con menos personas que experimentan tiempos de reacción significativamente más cortos o más largos. Esto refleja con precisión cómo la mayoría de las personas conducen con tiempos de reacción similares, pero aún existe variabilidad natural. \n",
    "\n",
    "Luego de una busqueda de estudios de investigación acerca del comportamiento de los conductores en la autopista Gral. Paz y otras autopistas de Buenos Aires, encontramos que la media de el tiempo de reacción se aproxima a 1s con un desvio de 0.2s.\n",
    "\n",
    "$$\n",
    "f(x) = \\frac{1}{\\sigma \\sqrt{2\\pi}} e^{-\\frac{(x-\\mu)^2}{2\\sigma^2}}\n",
    "$$\n",
    "\n",
    "$$\n",
    "\\begin{align*}\n",
    "\\mu & = 1s \\\\\n",
    "\\sigma & = 0.2s\n",
    "\\end{align*}\n",
    "$$"
   ]
  },
  {
   "attachments": {},
   "cell_type": "markdown",
   "metadata": {},
   "source": [
    "## Simulación"
   ]
  },
  {
   "cell_type": "code",
   "execution_count": 151,
   "metadata": {},
   "outputs": [],
   "source": [
    "import random \n",
    "from typing import Optional\n",
    "import matplotlib.animation as animation\n",
    "import matplotlib.pyplot as plt\n",
    "from scipy import stats\n",
    "import numpy as np"
   ]
  },
  {
   "cell_type": "code",
   "execution_count": 152,
   "metadata": {},
   "outputs": [],
   "source": [
    "exponencialnegativa = stats.expon()"
   ]
  },
  {
   "cell_type": "code",
   "execution_count": 153,
   "metadata": {},
   "outputs": [],
   "source": [
    "class Agent:\n",
    "\n",
    "    def __init__(\n",
    "        self, \n",
    "        x:float,                                                      #posición                                                                                                  \n",
    "        vmax:float,                                                   #velocidad máxima\n",
    "        l:float,                                                      #longitud del vehiculo\n",
    "        a:float,                                                      #aceleración\n",
    "        fa: Optional[\"Agent\"] = None,                                 #agente de adelante\n",
    "        ba: Optional[\"Agent\"] = None,                                 #agente de atras\n",
    "        at:int = 0,                                                   #tiempo de entrada a la autopista\n",
    "    ):\n",
    "    \n",
    "        self.position = x\n",
    "        self.max_velocity = vmax\n",
    "        self.length = l\n",
    "        self.aceleration = a\n",
    "        self.front_agent = fa\n",
    "        self.back_agent = ba\n",
    "        self.arrival_time = at\n",
    "\n",
    "        '''\n",
    "        velocidad de agente es generada a partir de la distribución triangular con los siguientes parametros:\n",
    "        - 30,000 m/s: velocidad minima\n",
    "        - 100,000 m/s: velocidad maxima\n",
    "        - 70,000 m/s: moda\n",
    "        '''\n",
    "        self.velocity = random.triangular(30000, 100000, 70000)\n",
    "        self.time = 0\n",
    "    \n",
    "        self.reaction_time = random.normalvariate(1, 0.2) \n",
    "    \n",
    "    def __str__(self):\n",
    "        return f\"Agent(t={self.time}, x={self.position}, v={self.velocity}, vmax={self.max_velocity}, l={self.length}, a={self.aceleration}, rt={self.reaction_time}, fa={self.front_agent}, ba={self.back_agent}, at={self.arrival_time})\"\n",
    "    \n",
    "\n",
    "    def dist_to_front_agent(self):\n",
    "        if self.front_agent == None:\n",
    "            return None\n",
    "\n",
    "        else: #hay otro agente adelante\n",
    "            return abs(self.position - self.front_agent.position - self.length)\n",
    "\n",
    "\n",
    "    def dist_to_back_agent(self):\n",
    "        if self.back_agent == None:\n",
    "            return None\n",
    "\n",
    "        else: #hay otro agent atras\n",
    "            return abs(self.back_agent.position - self.position - self.back_agent.length)\n",
    "\n",
    "    def speed_variation(self):\n",
    "\n",
    "        if self.dist_to_front_agent() == None or self.dist_to_front_agent() >= 20:\n",
    "            self.velocity = random.normalvariate(self.velocity, 50000)\n",
    "\n",
    "\n",
    "    def reduce_speed(self):\n",
    "        # si se encuentra \"cerca\" del agente de adelante, reducirá su velocidad mediante una distribución exponencial con media 1.\n",
    "        if self.dist_to_front_agent() != None and self.dist_to_front_agent() < 10:\n",
    "            self.velocity -= (self.velocity - self.front_agent.velocity) / (1 - stats.expon().rvs(1)) # La velocidad que tenes que reducir por segundo.\n",
    "\n",
    "         # si se encuentra \"lejos\" del agente de adelante, reducirá su velocidad mediante una distribución exponencial con media 3.\n",
    "        elif self.dist_to_front_agent() != None and self.dist_to_front_agent() >= 10 and self.dist_to_front_agent() <= 20:\n",
    "            self.velocity -= (self.velocity - self.front_agent.velocity) / (1 - stats.expon().rvs(3))\n",
    "\n",
    "        # si no tine agente adelante seguira a la misma velocidad que tenia.\n",
    "        else:\n",
    "            self.velocity = self.velocity\n",
    "\n",
    "\n",
    "    def move(self):\n",
    "        self.position = self.position + self.velocity * 1 \n",
    "    \n",
    "    def update_position(self):\n",
    "        return self.position\n",
    "\n",
    "    def update(self):\n",
    "        self.move()\n",
    "        self.reduce_speed()\n",
    "        self.speed_variation()\n",
    "        self.update_position()\n",
    "        self.time += 1\n"
   ]
  },
  {
   "cell_type": "code",
   "execution_count": 154,
   "metadata": {},
   "outputs": [],
   "source": [
    "class Road:\n",
    "    \n",
    "    def __init__(self, km:int, c:bool):\n",
    "        self.km = km\n",
    "        self.agents = []\n",
    "        self.time = 0\n",
    "        self.total_time = 10\n",
    "        self.congestion = c\n",
    "        self.time_to_next_arrival = 0\n",
    "\n",
    "    def __repr__(self):\n",
    "        return f\"Road(km={self.km}, agents={self.agents}, t={self.time})\"\n",
    "    \n",
    "    def add_agent(self, rate, agent:Agent):\n",
    "        print(self.time)\n",
    "        print(self.agents)\n",
    "\n",
    "        # Si no hay agentes en la Gral.Paz, agregamos el primer agente\n",
    "        if len(self.agents) == 0:\n",
    "            self.agents.append(agent)\n",
    "            agent.front_agent = None\n",
    "            agent.back_agent = None\n",
    "            agent.arrival_time = self.time\n",
    "            self.time_to_next_arrival = stats.expon.rvs(scale=1/rate)\n",
    "\n",
    "        # Si hay agentes en Gral.Paz, agregaremos un nuevo agente con distribución exponencial negativa\n",
    "        else:\n",
    "            if self.time - self.agents[-1].arrival_time > self.time_to_next_arrival:\n",
    "                self.agents.append(agent)\n",
    "                agent.position = 0\n",
    "                agent.arrival_time = self.time\n",
    "                self.time_to_next_arrival = stats.expon.rvs(scale=1/rate)\n",
    "\n",
    "\n",
    "                #asignamos su front y su back car teniendo en cuenta la lista de self.agents\n",
    "                if len(self.agents) >= 2:\n",
    "                    agent.front_agent = self.agents[-2]\n",
    "                    self.agents[-2].back_agent = agent\n",
    "        \n",
    "        print(self.agents)\n",
    "        self.update()\n",
    "\n",
    "    def time_lapse(self):\n",
    "        while self.time < self.total_time:\n",
    "            if self.congestion == True:\n",
    "                # Agrega autos con distribución exponencial negativa con media = 15\n",
    "                for agent in self.agents:\n",
    "                    self.add_agent(15, agent)\n",
    "            else:\n",
    "                # Agrega autos con distribución exponencial negativa con media = 45\n",
    "                for agent in self.agents:\n",
    "                    self.add_agent(45, agent)\n",
    "        \n",
    "    \n",
    "    def update(self):\n",
    "        for agent in self.agents:\n",
    "            agent.update()\n",
    "            print(agent.position)\n",
    "            #si el agente llega al final de la carretera lo eliminamos\n",
    "            if agent.position > self.km:\n",
    "                self.agents.remove(agent)\n",
    "\n",
    "            #asignamos el front y back car de los agentes extremos de la lista\n",
    "            if len(self.agents) > 0:\n",
    "                self.agents[0].front_agent = None\n",
    "\n",
    "        self.time += 1\n",
    "        self.time_lapse()\n",
    "    \n",
    "\n",
    "        \n",
    "    \n",
    "    def plot(self):\n",
    "        fig, ax = plt.subplots()\n",
    "        ax.plot([agent.position for agent in self.agents], [0 for agent in self.agents], \"o\")\n",
    "        ax.set_xlim(0, self.km)\n",
    "        ax.set_ylim(-1, 1)\n",
    "        ax.set_yticks([])\n",
    "        ax.set_xlabel(\"Position\")\n",
    "        ax.set_title(\"Highway\")\n",
    "        ax.legend()\n",
    "        \n",
    "        plt.show()"
   ]
  },
  {
   "cell_type": "code",
   "execution_count": 155,
   "metadata": {},
   "outputs": [
    {
     "name": "stdout",
     "output_type": "stream",
     "text": [
      "0\n",
      "[]\n",
      "[<__main__.Agent object at 0x0000023D444D6A30>]\n",
      "63019.62790819394\n",
      "1\n",
      "[<__main__.Agent object at 0x0000023D444D6A30>]\n",
      "[<__main__.Agent object at 0x0000023D444D6A30>, <__main__.Agent object at 0x0000023D444D6A30>]\n",
      "123757.89219717003\n",
      "[247515.78439434]\n",
      "2\n",
      "[<__main__.Agent object at 0x0000023D444D6A30>, <__main__.Agent object at 0x0000023D444D6A30>]\n",
      "[<__main__.Agent object at 0x0000023D444D6A30>, <__main__.Agent object at 0x0000023D444D6A30>, <__main__.Agent object at 0x0000023D444D6A30>]\n",
      "[116628.93924401]\n",
      "[233257.87848802]\n",
      "[313759.8219067]\n",
      "3\n",
      "[<__main__.Agent object at 0x0000023D444D6A30>, <__main__.Agent object at 0x0000023D444D6A30>, <__main__.Agent object at 0x0000023D444D6A30>]\n",
      "[<__main__.Agent object at 0x0000023D444D6A30>, <__main__.Agent object at 0x0000023D444D6A30>, <__main__.Agent object at 0x0000023D444D6A30>, <__main__.Agent object at 0x0000023D444D6A30>]\n",
      "[92087.9238153]\n",
      "[184175.8476306]\n",
      "[294125.68422442]\n",
      "[427103.21396011]\n",
      "4\n",
      "[<__main__.Agent object at 0x0000023D444D6A30>, <__main__.Agent object at 0x0000023D444D6A30>, <__main__.Agent object at 0x0000023D444D6A30>, <__main__.Agent object at 0x0000023D444D6A30>]\n",
      "[<__main__.Agent object at 0x0000023D444D6A30>, <__main__.Agent object at 0x0000023D444D6A30>, <__main__.Agent object at 0x0000023D444D6A30>, <__main__.Agent object at 0x0000023D444D6A30>, <__main__.Agent object at 0x0000023D444D6A30>]\n",
      "[178969.21291799]\n",
      "[357938.42583599]\n",
      "[532367.97736693]\n",
      "[706489.15525802]\n",
      "[861070.69837751]\n",
      "5\n",
      "[<__main__.Agent object at 0x0000023D444D6A30>, <__main__.Agent object at 0x0000023D444D6A30>, <__main__.Agent object at 0x0000023D444D6A30>, <__main__.Agent object at 0x0000023D444D6A30>, <__main__.Agent object at 0x0000023D444D6A30>]\n",
      "[<__main__.Agent object at 0x0000023D444D6A30>, <__main__.Agent object at 0x0000023D444D6A30>, <__main__.Agent object at 0x0000023D444D6A30>, <__main__.Agent object at 0x0000023D444D6A30>, <__main__.Agent object at 0x0000023D444D6A30>, <__main__.Agent object at 0x0000023D444D6A30>]\n",
      "[138203.61774619]\n",
      "[276407.23549238]\n",
      "[424212.93138343]\n",
      "[511174.80056115]\n",
      "[468603.33669255]\n",
      "[554357.71686037]\n",
      "6\n",
      "[<__main__.Agent object at 0x0000023D444D6A30>, <__main__.Agent object at 0x0000023D444D6A30>, <__main__.Agent object at 0x0000023D444D6A30>, <__main__.Agent object at 0x0000023D444D6A30>, <__main__.Agent object at 0x0000023D444D6A30>, <__main__.Agent object at 0x0000023D444D6A30>]\n",
      "[<__main__.Agent object at 0x0000023D444D6A30>, <__main__.Agent object at 0x0000023D444D6A30>, <__main__.Agent object at 0x0000023D444D6A30>, <__main__.Agent object at 0x0000023D444D6A30>, <__main__.Agent object at 0x0000023D444D6A30>, <__main__.Agent object at 0x0000023D444D6A30>, <__main__.Agent object at 0x0000023D444D6A30>]\n",
      "[57765.63032395]\n",
      "[115531.26064789]\n",
      "[148483.11515133]\n",
      "[163999.99328341]\n",
      "[228050.99716763]\n",
      "[355903.51406727]\n",
      "[499334.26484511]\n",
      "7\n",
      "[<__main__.Agent object at 0x0000023D444D6A30>, <__main__.Agent object at 0x0000023D444D6A30>, <__main__.Agent object at 0x0000023D444D6A30>, <__main__.Agent object at 0x0000023D444D6A30>, <__main__.Agent object at 0x0000023D444D6A30>, <__main__.Agent object at 0x0000023D444D6A30>, <__main__.Agent object at 0x0000023D444D6A30>]\n",
      "[<__main__.Agent object at 0x0000023D444D6A30>, <__main__.Agent object at 0x0000023D444D6A30>, <__main__.Agent object at 0x0000023D444D6A30>, <__main__.Agent object at 0x0000023D444D6A30>, <__main__.Agent object at 0x0000023D444D6A30>, <__main__.Agent object at 0x0000023D444D6A30>, <__main__.Agent object at 0x0000023D444D6A30>, <__main__.Agent object at 0x0000023D444D6A30>]\n",
      "[160411.19824892]\n",
      "[320822.39649785]\n",
      "[433764.05087683]\n",
      "[535418.95524315]\n",
      "[647697.96879016]\n",
      "[699443.65199769]\n",
      "[716979.08249362]\n",
      "[707380.61132423]\n",
      "8\n",
      "[<__main__.Agent object at 0x0000023D444D6A30>, <__main__.Agent object at 0x0000023D444D6A30>, <__main__.Agent object at 0x0000023D444D6A30>, <__main__.Agent object at 0x0000023D444D6A30>, <__main__.Agent object at 0x0000023D444D6A30>, <__main__.Agent object at 0x0000023D444D6A30>, <__main__.Agent object at 0x0000023D444D6A30>, <__main__.Agent object at 0x0000023D444D6A30>]\n",
      "[<__main__.Agent object at 0x0000023D444D6A30>, <__main__.Agent object at 0x0000023D444D6A30>, <__main__.Agent object at 0x0000023D444D6A30>, <__main__.Agent object at 0x0000023D444D6A30>, <__main__.Agent object at 0x0000023D444D6A30>, <__main__.Agent object at 0x0000023D444D6A30>, <__main__.Agent object at 0x0000023D444D6A30>, <__main__.Agent object at 0x0000023D444D6A30>, <__main__.Agent object at 0x0000023D444D6A30>]\n",
      "[1080.40127049]\n",
      "[2160.80254097]\n",
      "[-86527.1681528]\n",
      "[-181770.18500831]\n",
      "[-297804.99549516]\n",
      "[-510499.02680123]\n",
      "[-679695.66602419]\n",
      "[-771938.38241148]\n",
      "[-747664.20662658]\n",
      "9\n",
      "[<__main__.Agent object at 0x0000023D444D6A30>, <__main__.Agent object at 0x0000023D444D6A30>, <__main__.Agent object at 0x0000023D444D6A30>, <__main__.Agent object at 0x0000023D444D6A30>, <__main__.Agent object at 0x0000023D444D6A30>, <__main__.Agent object at 0x0000023D444D6A30>, <__main__.Agent object at 0x0000023D444D6A30>, <__main__.Agent object at 0x0000023D444D6A30>, <__main__.Agent object at 0x0000023D444D6A30>]\n",
      "[<__main__.Agent object at 0x0000023D444D6A30>, <__main__.Agent object at 0x0000023D444D6A30>, <__main__.Agent object at 0x0000023D444D6A30>, <__main__.Agent object at 0x0000023D444D6A30>, <__main__.Agent object at 0x0000023D444D6A30>, <__main__.Agent object at 0x0000023D444D6A30>, <__main__.Agent object at 0x0000023D444D6A30>, <__main__.Agent object at 0x0000023D444D6A30>, <__main__.Agent object at 0x0000023D444D6A30>, <__main__.Agent object at 0x0000023D444D6A30>]\n",
      "[-36513.91298737]\n",
      "[-73027.82597474]\n",
      "[-26555.31286199]\n",
      "[-1018.54968785]\n",
      "[53712.78920397]\n",
      "[193452.66884939]\n",
      "[295781.62651722]\n",
      "[401073.01438963]\n",
      "[541423.69619841]\n",
      "[645956.06429829]\n",
      "10\n",
      "[<__main__.Agent object at 0x0000023D444D6A30>, <__main__.Agent object at 0x0000023D444D6A30>, <__main__.Agent object at 0x0000023D444D6A30>, <__main__.Agent object at 0x0000023D444D6A30>, <__main__.Agent object at 0x0000023D444D6A30>, <__main__.Agent object at 0x0000023D444D6A30>, <__main__.Agent object at 0x0000023D444D6A30>, <__main__.Agent object at 0x0000023D444D6A30>, <__main__.Agent object at 0x0000023D444D6A30>, <__main__.Agent object at 0x0000023D444D6A30>]\n",
      "[<__main__.Agent object at 0x0000023D444D6A30>, <__main__.Agent object at 0x0000023D444D6A30>, <__main__.Agent object at 0x0000023D444D6A30>, <__main__.Agent object at 0x0000023D444D6A30>, <__main__.Agent object at 0x0000023D444D6A30>, <__main__.Agent object at 0x0000023D444D6A30>, <__main__.Agent object at 0x0000023D444D6A30>, <__main__.Agent object at 0x0000023D444D6A30>, <__main__.Agent object at 0x0000023D444D6A30>, <__main__.Agent object at 0x0000023D444D6A30>, <__main__.Agent object at 0x0000023D444D6A30>]\n",
      "[52457.46160349]\n",
      "[104914.92320699]\n",
      "[209944.61396429]\n",
      "[270807.37921017]\n",
      "[297644.02321472]\n",
      "[301862.42148555]\n",
      "[377982.93518027]\n",
      "[430373.56592403]\n",
      "[472425.49404703]\n",
      "[529235.37288196]\n",
      "[570792.64883108]\n",
      "11\n",
      "[<__main__.Agent object at 0x0000023D444D6A30>, <__main__.Agent object at 0x0000023D444D6A30>, <__main__.Agent object at 0x0000023D444D6A30>, <__main__.Agent object at 0x0000023D444D6A30>, <__main__.Agent object at 0x0000023D444D6A30>, <__main__.Agent object at 0x0000023D444D6A30>, <__main__.Agent object at 0x0000023D444D6A30>, <__main__.Agent object at 0x0000023D444D6A30>, <__main__.Agent object at 0x0000023D444D6A30>, <__main__.Agent object at 0x0000023D444D6A30>, <__main__.Agent object at 0x0000023D444D6A30>]\n",
      "[<__main__.Agent object at 0x0000023D444D6A30>, <__main__.Agent object at 0x0000023D444D6A30>, <__main__.Agent object at 0x0000023D444D6A30>, <__main__.Agent object at 0x0000023D444D6A30>, <__main__.Agent object at 0x0000023D444D6A30>, <__main__.Agent object at 0x0000023D444D6A30>, <__main__.Agent object at 0x0000023D444D6A30>, <__main__.Agent object at 0x0000023D444D6A30>, <__main__.Agent object at 0x0000023D444D6A30>, <__main__.Agent object at 0x0000023D444D6A30>, <__main__.Agent object at 0x0000023D444D6A30>, <__main__.Agent object at 0x0000023D444D6A30>]\n",
      "[-33503.50921768]\n",
      "[-67007.01843536]\n",
      "[-158762.74006151]\n",
      "[-282914.29761123]\n",
      "[-342576.19259624]\n",
      "[-345238.02796952]\n",
      "[-296966.13220408]\n",
      "[-219297.05500826]\n",
      "[-216456.25449778]\n",
      "[-214613.48547945]\n",
      "[-272030.90231253]\n",
      "[-328747.35801566]\n",
      "12\n",
      "[<__main__.Agent object at 0x0000023D444D6A30>, <__main__.Agent object at 0x0000023D444D6A30>, <__main__.Agent object at 0x0000023D444D6A30>, <__main__.Agent object at 0x0000023D444D6A30>, <__main__.Agent object at 0x0000023D444D6A30>, <__main__.Agent object at 0x0000023D444D6A30>, <__main__.Agent object at 0x0000023D444D6A30>, <__main__.Agent object at 0x0000023D444D6A30>, <__main__.Agent object at 0x0000023D444D6A30>, <__main__.Agent object at 0x0000023D444D6A30>, <__main__.Agent object at 0x0000023D444D6A30>, <__main__.Agent object at 0x0000023D444D6A30>]\n",
      "[<__main__.Agent object at 0x0000023D444D6A30>, <__main__.Agent object at 0x0000023D444D6A30>, <__main__.Agent object at 0x0000023D444D6A30>, <__main__.Agent object at 0x0000023D444D6A30>, <__main__.Agent object at 0x0000023D444D6A30>, <__main__.Agent object at 0x0000023D444D6A30>, <__main__.Agent object at 0x0000023D444D6A30>, <__main__.Agent object at 0x0000023D444D6A30>, <__main__.Agent object at 0x0000023D444D6A30>, <__main__.Agent object at 0x0000023D444D6A30>, <__main__.Agent object at 0x0000023D444D6A30>, <__main__.Agent object at 0x0000023D444D6A30>, <__main__.Agent object at 0x0000023D444D6A30>]\n",
      "[-13536.34661478]\n",
      "[-27072.69322955]\n",
      "[-69265.69949808]\n",
      "[-71566.06166081]\n",
      "[-119056.43130615]\n",
      "[-191395.17721796]\n",
      "[-281604.99602533]\n",
      "[-345602.22005072]\n",
      "[-453915.54355956]\n",
      "[-584380.57349982]\n",
      "[-699329.10132222]\n",
      "[-893717.66060804]\n",
      "[-991114.39135406]\n",
      "13\n",
      "[<__main__.Agent object at 0x0000023D444D6A30>, <__main__.Agent object at 0x0000023D444D6A30>, <__main__.Agent object at 0x0000023D444D6A30>, <__main__.Agent object at 0x0000023D444D6A30>, <__main__.Agent object at 0x0000023D444D6A30>, <__main__.Agent object at 0x0000023D444D6A30>, <__main__.Agent object at 0x0000023D444D6A30>, <__main__.Agent object at 0x0000023D444D6A30>, <__main__.Agent object at 0x0000023D444D6A30>, <__main__.Agent object at 0x0000023D444D6A30>, <__main__.Agent object at 0x0000023D444D6A30>, <__main__.Agent object at 0x0000023D444D6A30>, <__main__.Agent object at 0x0000023D444D6A30>]\n",
      "[<__main__.Agent object at 0x0000023D444D6A30>, <__main__.Agent object at 0x0000023D444D6A30>, <__main__.Agent object at 0x0000023D444D6A30>, <__main__.Agent object at 0x0000023D444D6A30>, <__main__.Agent object at 0x0000023D444D6A30>, <__main__.Agent object at 0x0000023D444D6A30>, <__main__.Agent object at 0x0000023D444D6A30>, <__main__.Agent object at 0x0000023D444D6A30>, <__main__.Agent object at 0x0000023D444D6A30>, <__main__.Agent object at 0x0000023D444D6A30>, <__main__.Agent object at 0x0000023D444D6A30>, <__main__.Agent object at 0x0000023D444D6A30>, <__main__.Agent object at 0x0000023D444D6A30>, <__main__.Agent object at 0x0000023D444D6A30>]\n",
      "[-53718.08889401]\n",
      "[-107436.17778802]\n",
      "[-105476.3639332]\n",
      "[-65692.02818165]\n",
      "[-38979.27578493]\n",
      "[-12714.10660041]\n",
      "[-48817.15589987]\n",
      "[-172406.80364331]\n",
      "[-288238.04254227]\n",
      "[-353153.54661966]\n",
      "[-400410.83873475]\n",
      "[-453867.7817442]\n",
      "[-515582.87716744]\n",
      "[-619757.05427079]\n",
      "14\n",
      "[<__main__.Agent object at 0x0000023D444D6A30>, <__main__.Agent object at 0x0000023D444D6A30>, <__main__.Agent object at 0x0000023D444D6A30>, <__main__.Agent object at 0x0000023D444D6A30>, <__main__.Agent object at 0x0000023D444D6A30>, <__main__.Agent object at 0x0000023D444D6A30>, <__main__.Agent object at 0x0000023D444D6A30>, <__main__.Agent object at 0x0000023D444D6A30>, <__main__.Agent object at 0x0000023D444D6A30>, <__main__.Agent object at 0x0000023D444D6A30>, <__main__.Agent object at 0x0000023D444D6A30>, <__main__.Agent object at 0x0000023D444D6A30>, <__main__.Agent object at 0x0000023D444D6A30>, <__main__.Agent object at 0x0000023D444D6A30>]\n",
      "[<__main__.Agent object at 0x0000023D444D6A30>, <__main__.Agent object at 0x0000023D444D6A30>, <__main__.Agent object at 0x0000023D444D6A30>, <__main__.Agent object at 0x0000023D444D6A30>, <__main__.Agent object at 0x0000023D444D6A30>, <__main__.Agent object at 0x0000023D444D6A30>, <__main__.Agent object at 0x0000023D444D6A30>, <__main__.Agent object at 0x0000023D444D6A30>, <__main__.Agent object at 0x0000023D444D6A30>, <__main__.Agent object at 0x0000023D444D6A30>, <__main__.Agent object at 0x0000023D444D6A30>, <__main__.Agent object at 0x0000023D444D6A30>, <__main__.Agent object at 0x0000023D444D6A30>, <__main__.Agent object at 0x0000023D444D6A30>, <__main__.Agent object at 0x0000023D444D6A30>]\n",
      "[-144570.34784409]\n",
      "[-289140.69568818]\n",
      "[-450791.81532545]\n",
      "[-633658.17863967]\n",
      "[-840685.56358433]\n",
      "[-984583.13694803]\n",
      "[-1021107.26763422]\n",
      "[-986100.29976444]\n",
      "[-895366.25118731]\n",
      "[-806401.91812214]\n",
      "[-646286.40324394]\n",
      "[-518765.99178956]\n",
      "[-282631.94812139]\n",
      "[-25887.63976542]\n",
      "[152387.66051569]\n",
      "15\n",
      "[<__main__.Agent object at 0x0000023D444D6A30>, <__main__.Agent object at 0x0000023D444D6A30>, <__main__.Agent object at 0x0000023D444D6A30>, <__main__.Agent object at 0x0000023D444D6A30>, <__main__.Agent object at 0x0000023D444D6A30>, <__main__.Agent object at 0x0000023D444D6A30>, <__main__.Agent object at 0x0000023D444D6A30>, <__main__.Agent object at 0x0000023D444D6A30>, <__main__.Agent object at 0x0000023D444D6A30>, <__main__.Agent object at 0x0000023D444D6A30>, <__main__.Agent object at 0x0000023D444D6A30>, <__main__.Agent object at 0x0000023D444D6A30>, <__main__.Agent object at 0x0000023D444D6A30>, <__main__.Agent object at 0x0000023D444D6A30>, <__main__.Agent object at 0x0000023D444D6A30>]\n",
      "[<__main__.Agent object at 0x0000023D444D6A30>, <__main__.Agent object at 0x0000023D444D6A30>, <__main__.Agent object at 0x0000023D444D6A30>, <__main__.Agent object at 0x0000023D444D6A30>, <__main__.Agent object at 0x0000023D444D6A30>, <__main__.Agent object at 0x0000023D444D6A30>, <__main__.Agent object at 0x0000023D444D6A30>, <__main__.Agent object at 0x0000023D444D6A30>, <__main__.Agent object at 0x0000023D444D6A30>, <__main__.Agent object at 0x0000023D444D6A30>, <__main__.Agent object at 0x0000023D444D6A30>, <__main__.Agent object at 0x0000023D444D6A30>, <__main__.Agent object at 0x0000023D444D6A30>, <__main__.Agent object at 0x0000023D444D6A30>, <__main__.Agent object at 0x0000023D444D6A30>, <__main__.Agent object at 0x0000023D444D6A30>]\n",
      "[172505.0239948]\n",
      "[345010.04798959]\n",
      "[559490.31790808]\n",
      "[901976.81853527]\n",
      "[1329034.71690464]\n",
      "[1714554.05939447]\n",
      "[2002232.36486854]\n",
      "[2384539.01644177]\n",
      "[2831999.55394192]\n",
      "[3325916.79037737]\n",
      "16\n",
      "[<__main__.Agent object at 0x0000023D444D6A30>, <__main__.Agent object at 0x0000023D444D6A30>, <__main__.Agent object at 0x0000023D444D6A30>, <__main__.Agent object at 0x0000023D444D6A30>, <__main__.Agent object at 0x0000023D444D6A30>, <__main__.Agent object at 0x0000023D444D6A30>, <__main__.Agent object at 0x0000023D444D6A30>, <__main__.Agent object at 0x0000023D444D6A30>, <__main__.Agent object at 0x0000023D444D6A30>, <__main__.Agent object at 0x0000023D444D6A30>]\n",
      "[<__main__.Agent object at 0x0000023D444D6A30>, <__main__.Agent object at 0x0000023D444D6A30>, <__main__.Agent object at 0x0000023D444D6A30>, <__main__.Agent object at 0x0000023D444D6A30>, <__main__.Agent object at 0x0000023D444D6A30>, <__main__.Agent object at 0x0000023D444D6A30>, <__main__.Agent object at 0x0000023D444D6A30>, <__main__.Agent object at 0x0000023D444D6A30>, <__main__.Agent object at 0x0000023D444D6A30>, <__main__.Agent object at 0x0000023D444D6A30>, <__main__.Agent object at 0x0000023D444D6A30>]\n",
      "[482686.99338169]\n",
      "[965373.98676339]\n",
      "[1437630.80600448]\n",
      "[1936983.045759]\n",
      "[2398233.48783037]\n",
      "[2908483.92574627]\n",
      "[3368158.99416745]\n",
      "17\n",
      "[<__main__.Agent object at 0x0000023D444D6A30>, <__main__.Agent object at 0x0000023D444D6A30>, <__main__.Agent object at 0x0000023D444D6A30>, <__main__.Agent object at 0x0000023D444D6A30>, <__main__.Agent object at 0x0000023D444D6A30>, <__main__.Agent object at 0x0000023D444D6A30>]\n",
      "[<__main__.Agent object at 0x0000023D444D6A30>, <__main__.Agent object at 0x0000023D444D6A30>, <__main__.Agent object at 0x0000023D444D6A30>, <__main__.Agent object at 0x0000023D444D6A30>, <__main__.Agent object at 0x0000023D444D6A30>, <__main__.Agent object at 0x0000023D444D6A30>, <__main__.Agent object at 0x0000023D444D6A30>]\n",
      "[443846.39543441]\n",
      "[887692.79086883]\n",
      "[1244431.71851438]\n",
      "[1635256.89606416]\n",
      "[1945210.44120985]\n",
      "18\n",
      "[<__main__.Agent object at 0x0000023D444D6A30>, <__main__.Agent object at 0x0000023D444D6A30>, <__main__.Agent object at 0x0000023D444D6A30>, <__main__.Agent object at 0x0000023D444D6A30>]\n",
      "[<__main__.Agent object at 0x0000023D444D6A30>, <__main__.Agent object at 0x0000023D444D6A30>, <__main__.Agent object at 0x0000023D444D6A30>, <__main__.Agent object at 0x0000023D444D6A30>, <__main__.Agent object at 0x0000023D444D6A30>]\n",
      "[252461.96780893]\n",
      "[504923.93561785]\n",
      "[780401.04605268]\n",
      "[1011728.25811009]\n",
      "19\n",
      "[<__main__.Agent object at 0x0000023D444D6A30>, <__main__.Agent object at 0x0000023D444D6A30>, <__main__.Agent object at 0x0000023D444D6A30>, <__main__.Agent object at 0x0000023D444D6A30>]\n",
      "[<__main__.Agent object at 0x0000023D444D6A30>, <__main__.Agent object at 0x0000023D444D6A30>, <__main__.Agent object at 0x0000023D444D6A30>, <__main__.Agent object at 0x0000023D444D6A30>, <__main__.Agent object at 0x0000023D444D6A30>]\n",
      "[307231.55371589]\n",
      "[614463.10743177]\n",
      "[931072.07026013]\n",
      "[1232489.65162547]\n",
      "20\n",
      "[<__main__.Agent object at 0x0000023D444D6A30>, <__main__.Agent object at 0x0000023D444D6A30>, <__main__.Agent object at 0x0000023D444D6A30>, <__main__.Agent object at 0x0000023D444D6A30>]\n",
      "[<__main__.Agent object at 0x0000023D444D6A30>, <__main__.Agent object at 0x0000023D444D6A30>, <__main__.Agent object at 0x0000023D444D6A30>, <__main__.Agent object at 0x0000023D444D6A30>, <__main__.Agent object at 0x0000023D444D6A30>]\n",
      "[382861.16280706]\n",
      "[765722.32561412]\n",
      "[1111855.26120882]\n",
      "[1438117.45085365]\n",
      "21\n",
      "[<__main__.Agent object at 0x0000023D444D6A30>, <__main__.Agent object at 0x0000023D444D6A30>, <__main__.Agent object at 0x0000023D444D6A30>]\n",
      "[<__main__.Agent object at 0x0000023D444D6A30>, <__main__.Agent object at 0x0000023D444D6A30>, <__main__.Agent object at 0x0000023D444D6A30>, <__main__.Agent object at 0x0000023D444D6A30>]\n",
      "[323610.62588745]\n",
      "[647221.2517749]\n",
      "[1068516.13748906]\n",
      "22\n",
      "[<__main__.Agent object at 0x0000023D444D6A30>, <__main__.Agent object at 0x0000023D444D6A30>, <__main__.Agent object at 0x0000023D444D6A30>]\n",
      "[<__main__.Agent object at 0x0000023D444D6A30>, <__main__.Agent object at 0x0000023D444D6A30>, <__main__.Agent object at 0x0000023D444D6A30>, <__main__.Agent object at 0x0000023D444D6A30>]\n",
      "[456717.12203985]\n",
      "[913434.2440797]\n",
      "[1320290.37795209]\n",
      "23\n",
      "[<__main__.Agent object at 0x0000023D444D6A30>, <__main__.Agent object at 0x0000023D444D6A30>, <__main__.Agent object at 0x0000023D444D6A30>]\n",
      "[<__main__.Agent object at 0x0000023D444D6A30>, <__main__.Agent object at 0x0000023D444D6A30>, <__main__.Agent object at 0x0000023D444D6A30>, <__main__.Agent object at 0x0000023D444D6A30>]\n",
      "[377270.49797033]\n",
      "[754540.99594067]\n",
      "[1040976.77109887]\n",
      "24\n",
      "[<__main__.Agent object at 0x0000023D444D6A30>, <__main__.Agent object at 0x0000023D444D6A30>, <__main__.Agent object at 0x0000023D444D6A30>]\n",
      "[<__main__.Agent object at 0x0000023D444D6A30>, <__main__.Agent object at 0x0000023D444D6A30>, <__main__.Agent object at 0x0000023D444D6A30>, <__main__.Agent object at 0x0000023D444D6A30>]\n",
      "[361532.64055217]\n",
      "[723065.28110433]\n",
      "[1084209.33236393]\n",
      "25\n",
      "[<__main__.Agent object at 0x0000023D444D6A30>, <__main__.Agent object at 0x0000023D444D6A30>, <__main__.Agent object at 0x0000023D444D6A30>]\n",
      "[<__main__.Agent object at 0x0000023D444D6A30>, <__main__.Agent object at 0x0000023D444D6A30>, <__main__.Agent object at 0x0000023D444D6A30>, <__main__.Agent object at 0x0000023D444D6A30>]\n",
      "[357037.02151332]\n",
      "[714074.04302664]\n",
      "[1083335.99315818]\n",
      "26\n",
      "[<__main__.Agent object at 0x0000023D444D6A30>, <__main__.Agent object at 0x0000023D444D6A30>, <__main__.Agent object at 0x0000023D444D6A30>]\n",
      "[<__main__.Agent object at 0x0000023D444D6A30>, <__main__.Agent object at 0x0000023D444D6A30>, <__main__.Agent object at 0x0000023D444D6A30>, <__main__.Agent object at 0x0000023D444D6A30>]\n",
      "[355263.54540726]\n",
      "[710527.09081451]\n",
      "[1034906.88851369]\n",
      "27\n",
      "[<__main__.Agent object at 0x0000023D444D6A30>, <__main__.Agent object at 0x0000023D444D6A30>, <__main__.Agent object at 0x0000023D444D6A30>]\n",
      "[<__main__.Agent object at 0x0000023D444D6A30>, <__main__.Agent object at 0x0000023D444D6A30>, <__main__.Agent object at 0x0000023D444D6A30>, <__main__.Agent object at 0x0000023D444D6A30>]\n",
      "[351913.71216404]\n",
      "[703827.42432809]\n",
      "[1052845.27167544]\n",
      "28\n",
      "[<__main__.Agent object at 0x0000023D444D6A30>, <__main__.Agent object at 0x0000023D444D6A30>, <__main__.Agent object at 0x0000023D444D6A30>]\n",
      "[<__main__.Agent object at 0x0000023D444D6A30>, <__main__.Agent object at 0x0000023D444D6A30>, <__main__.Agent object at 0x0000023D444D6A30>, <__main__.Agent object at 0x0000023D444D6A30>]\n",
      "[389201.35389335]\n",
      "[778402.7077867]\n",
      "[1201438.2218531]\n",
      "29\n",
      "[<__main__.Agent object at 0x0000023D444D6A30>, <__main__.Agent object at 0x0000023D444D6A30>, <__main__.Agent object at 0x0000023D444D6A30>]\n",
      "[<__main__.Agent object at 0x0000023D444D6A30>, <__main__.Agent object at 0x0000023D444D6A30>, <__main__.Agent object at 0x0000023D444D6A30>, <__main__.Agent object at 0x0000023D444D6A30>]\n",
      "[478114.74080924]\n",
      "[956229.48161848]\n",
      "[1488248.2562178]\n",
      "30\n",
      "[<__main__.Agent object at 0x0000023D444D6A30>, <__main__.Agent object at 0x0000023D444D6A30>, <__main__.Agent object at 0x0000023D444D6A30>]\n",
      "[<__main__.Agent object at 0x0000023D444D6A30>, <__main__.Agent object at 0x0000023D444D6A30>, <__main__.Agent object at 0x0000023D444D6A30>, <__main__.Agent object at 0x0000023D444D6A30>]\n",
      "[550570.98477234]\n",
      "[1101141.96954469]\n",
      "[1657095.80315374]\n",
      "31\n",
      "[<__main__.Agent object at 0x0000023D444D6A30>, <__main__.Agent object at 0x0000023D444D6A30>]\n",
      "[<__main__.Agent object at 0x0000023D444D6A30>, <__main__.Agent object at 0x0000023D444D6A30>, <__main__.Agent object at 0x0000023D444D6A30>]\n",
      "[535540.54769142]\n",
      "[1071081.09538284]\n"
     ]
    }
   ],
   "source": [
    "agp = Road(km = 100000, c = False)\n",
    "\n",
    "# Crear una instancia de Agent\n",
    "agent1 = Agent(x=0, vmax=120, l=5, a=2, fa=None, ba=None, at=0)\n",
    "\n",
    "# Agregar el agente a la carretera\n",
    "agp.add_agent(15, agent1)  # Opcionalmente, puedes usar la tasa (rate) deseada aquí"
   ]
  },
  {
   "cell_type": "code",
   "execution_count": 156,
   "metadata": {},
   "outputs": [
    {
     "name": "stderr",
     "output_type": "stream",
     "text": [
      "No handles with labels found to put in legend.\n"
     ]
    },
    {
     "name": "stdout",
     "output_type": "stream",
     "text": [
      "[1668521.47274983]\n",
      "[2207719.64707534]\n"
     ]
    },
    {
     "data": {
      "image/png": "[encoded data removed]",
      "text/plain": [
       "<Figure size 432x288 with 1 Axes>"
      ]
     },
     "metadata": {
      "needs_background": "light"
     },
     "output_type": "display_data"
    }
   ],
   "source": [
    "for i in range(2):\n",
    "    agp.update()\n",
    "agp.plot()"
   ]
  }
 ],
 "metadata": {
  "kernelspec": {
   "display_name": "Python 3.9.13 ('base')",
   "language": "python",
   "name": "python3"
  },
  "language_info": {
   "codemirror_mode": {
    "name": "ipython",
    "version": 3
   },
   "file_extension": ".py",
   "mimetype": "text/x-python",
   "name": "python",
   "nbconvert_exporter": "python",
   "pygments_lexer": "ipython3",
   "version": "3.9.13"
  },
  "orig_nbformat": 4,
  "vscode": {
   "interpreter": {
    "hash": "8b227c73194924edd0a0ade3c617328ad4ed82e492e1afcb6485c0de2a34143f"
   }
  }
 },
 "nbformat": 4,
 "nbformat_minor": 2
}
